{
 "cells": [
  {
   "cell_type": "markdown",
   "id": "eb15f5c8-8870-43db-ab97-f97715eb4c6f",
   "metadata": {
    "jp-MarkdownHeadingCollapsed": true
   },
   "source": [
    "## Business Understanding\r\n",
    "The loan providing companies find it hard to give loans to the people due to their insufficient or non-existent credit history. Because of that, some consumers use it to their advantage by becoming a defaulter. Suppose you work for a consumer finance company which specialises in lending various types of loans to urban customers. You have to use EDA to analyse the patterns present in the data. This will ensure that the applicants capable of repaying the loan are not rejected.\r\n",
    "\r\n",
    " \r\n",
    "\r\n",
    "When the company receives a loan application, the company has to decide for loan approval based on the applicant’s profile. Two types of risks are associated with the bank’s decision:\r\n",
    "\r\n",
    "If the applicant is likely to repay the loan, then not approving the loan results in a loss of business to the company\r\n",
    "\r\n",
    "If the applicant is not likely to repay the loan, i.e. he/she is likely to default, then approving the loan may lead to a financial loss for the company.\r\n",
    "\r\n",
    " \r\n",
    "\r\n",
    "The data given below contains the information about the loan application at the time of applying for the loan. It contains two types \n",
    "The client with payment difficulties: he/she had late payment more than X days on at least one of the first Y instalments of the loan in our sample,\r\n",
    "\r\n",
    "All other cases: All other cases when the payment is paid on time.\r\n",
    "\r\n",
    " \r\n",
    "\r\n",
    "When a client applies for a loan, there are four types of decisions that could be taken by the client/company):\r\n",
    "\r\n",
    "Approved: The Company has approved loan Application\r\n",
    "\r\n",
    "Cancelled: The client cancelled the application sometime during approval. Either the client changed her/his mind about the loan or in some cases due to a higher risk of the client, he received worse pricing which he did not want.\r\n",
    "\r\n",
    "Refused: The company had rejected the loan (because the client does not meet their requirements etc.).\r\n",
    "\r\n",
    "Unused offer:  Loan has been cancelled by the client but at different stages of the process.\r\n",
    "\r\n",
    "In this case study, you will use EDA to understand how consumer attributes and loan attributes influence the tendency to default.ency to default.\n",
    "ency to default.of scenarios:"
   ]
  },
  {
   "cell_type": "markdown",
   "id": "1c86a0a2-9ed8-4d99-93c9-d684dbec4f43",
   "metadata": {},
   "source": [
    "# **Business Objectives**\r\n",
    "This case study aims to identify patterns which indicate if a client has difficulty paying their instalments which may be used for taking actions such as denying the loan, reducing the amount of loan, lending (to risky applicants) at a higher interest rate, etc. This will ensure that the consumers capable of repaying the loan are not rejected. Identification of such applicants using EDA is the aim of this case study.\r\n",
    "\r\n",
    " \r\n",
    "\r\n",
    "In other words, the company wants to understand the driving factors (or driver variables) behind loan default, i.e. the variables which are strong indicators of default.  The company can utilise this knowledge for its portfolio and risk assessment.\r\n",
    "\r\n",
    "To develop your understanding of the domain, you are advised to independently research a little about risk analytics - understanding the types of variables and their significance should be enough."
   ]
  },
  {
   "cell_type": "markdown",
   "id": "1df163b8-bd81-4627-be45-41aa2072891d",
   "metadata": {},
   "source": [
    "### Importing Required Libraries"
   ]
  },
  {
   "cell_type": "code",
   "execution_count": null,
   "id": "013656ec-69af-45d1-8388-b6a728f84a22",
   "metadata": {},
   "outputs": [],
   "source": [
    "import pandas as pd\n",
    "import numpy as np\n",
    "import matplotlib.pyplot as plt\n",
    "import seaborn as sns\n",
    "import warnings\n",
    "warnings.filterwarnings('ignore')  #importings warnings since most seaborn functions are deprecated and to make notebook look clean"
   ]
  },
  {
   "cell_type": "markdown",
   "id": "59007ac6-0576-4d5f-81d4-e9576bde1463",
   "metadata": {},
   "source": [
    "### Application Dataset:\n",
    "- Dataset consist of columns thats about personal details of client.\n",
    "- Key Column which is **TARGET** rates risk about client.\n",
    "- Some columns about document collected\n",
    "- Some columns about number of Enquiries from client on certain time frame , data collected from Central Bureau."
   ]
  },
  {
   "cell_type": "markdown",
   "id": "8b5c0544-7eda-4c5b-99e9-a517e6b44127",
   "metadata": {},
   "source": [
    "## 1 : DATA CLEANING"
   ]
  },
  {
   "cell_type": "markdown",
   "id": "62c6e6a2-7308-4b35-82ad-640d53631cda",
   "metadata": {},
   "source": [
    "#### Methods Taken in Data Cleaning:\n",
    "- Removing columns with more than 40% nulls.\n",
    "- Finding and Removing outliers.\n",
    "- Imputing Mean,Median based Distribution of data [Median for Skewed Distribution,Mean for Normal Distribution]\n",
    "- Modifying the columns for better insights [eg: Nulls in Occupation type has been changed into Retired who has Income Type Pensioner]\n",
    "- Feature Engineering Few Columns.\n",
    "- Standardised Categorical Values of Few Columns.\n",
    "- Kept abnormal values in some columns as imputed nulls created artificial outliers.<br>\n",
    "`Note: Categorizing by Numerical and Categorical data is done in end after cleaning Nulls`"
   ]
  },
  {
   "cell_type": "markdown",
   "id": "280d5612-ec22-476e-9fda-fe0a63ba12a7",
   "metadata": {},
   "source": [
    " "
   ]
  },
  {
   "cell_type": "code",
   "execution_count": null,
   "id": "366cb1e7-e9a9-47d9-9d7d-6ff91a87d4eb",
   "metadata": {},
   "outputs": [],
   "source": [
    "app_df = pd.read_csv('application_data.csv')"
   ]
  },
  {
   "cell_type": "code",
   "execution_count": null,
   "id": "d97283df-e3a0-4d93-809a-aa4293969526",
   "metadata": {},
   "outputs": [],
   "source": [
    "app_df.shape"
   ]
  },
  {
   "cell_type": "code",
   "execution_count": null,
   "id": "46e21e20-b397-4264-a911-8884b0a56f35",
   "metadata": {},
   "outputs": [],
   "source": [
    "app_df.dtypes"
   ]
  },
  {
   "cell_type": "code",
   "execution_count": null,
   "id": "5dfe6f84-2f3b-4c06-ab93-025881a38ca0",
   "metadata": {},
   "outputs": [],
   "source": [
    "# Majority of Columns are truncated in middle and not visible in cell,lets fix it using set_options\n",
    "pd.set_option('display.max_columns',None) # for columns \n",
    "pd.set_option('display.max_rows',None) # for rows"
   ]
  },
  {
   "cell_type": "code",
   "execution_count": null,
   "id": "7bb2b0f4-9903-41eb-8c19-afb861186630",
   "metadata": {},
   "outputs": [],
   "source": [
    "app_df.dtypes"
   ]
  },
  {
   "cell_type": "code",
   "execution_count": null,
   "id": "c8f9690d-3d00-4570-b599-d6e74c84d6cb",
   "metadata": {},
   "outputs": [],
   "source": [
    "app_df.head(10)"
   ]
  },
  {
   "cell_type": "code",
   "execution_count": null,
   "id": "ae21f71c-b057-4fed-b79d-83239937d4e5",
   "metadata": {},
   "outputs": [],
   "source": [
    "app_df.info()"
   ]
  },
  {
   "cell_type": "markdown",
   "id": "e76eca7b-0819-4d57-a1d3-9876a694bae3",
   "metadata": {},
   "source": [
    "### Application Dataset has \n",
    "- 65 float64 columns\n",
    "- 41 int64  columns\n",
    "- 16 object columns"
   ]
  },
  {
   "cell_type": "code",
   "execution_count": null,
   "id": "2c876167-d415-4666-885c-9c32c55178f2",
   "metadata": {},
   "outputs": [],
   "source": []
  },
  {
   "cell_type": "code",
   "execution_count": null,
   "id": "0c649f3c-957c-4aff-a07c-f1ee36c5b40a",
   "metadata": {},
   "outputs": [],
   "source": [
    "# lets create functions to check null percentage in dataframe.\n",
    "def checknull(n):\n",
    "    return app.isnull().sum().sort_values(ascending=False) / n.shape[0] * 100"
   ]
  },
  {
   "cell_type": "code",
   "execution_count": null,
   "id": "9d7575b8-406c-44af-992b-2d0c26fe3007",
   "metadata": {},
   "outputs": [],
   "source": [
    "def fillmedian(df, columns):\n",
    "    for column in columns:\n",
    "        median = df[column].median()\n",
    "        df[column].fillna(median, inplace=True)"
   ]
  },
  {
   "cell_type": "code",
   "execution_count": null,
   "id": "6be1ad4c-42e0-411e-b7d8-da66a5a3d372",
   "metadata": {},
   "outputs": [],
   "source": [
    "# calling created function to check null percentage\n",
    "checknull(app_df)"
   ]
  },
  {
   "cell_type": "markdown",
   "id": "bd911332-4011-4474-8716-d190e7bcb97d",
   "metadata": {},
   "source": [
    " "
   ]
  },
  {
   "cell_type": "markdown",
   "id": "97c7dc8e-cd5f-4c30-a44e-07fa795f3c1a",
   "metadata": {},
   "source": [
    " "
   ]
  },
  {
   "cell_type": "markdown",
   "id": "231a6aa8-0642-46d6-b259-a43caa03a548",
   "metadata": {},
   "source": [
    " "
   ]
  },
  {
   "cell_type": "markdown",
   "id": "1b1b69b7-a94f-4cec-b165-6d35a847a70b",
   "metadata": {},
   "source": [
    "#### Dropping Columns with more than 40% Nulls"
   ]
  },
  {
   "cell_type": "code",
   "execution_count": null,
   "id": "9e4c3c0c-1b4b-41c1-a0a8-55fe437f0e83",
   "metadata": {},
   "outputs": [],
   "source": [
    "null_percentage = checknull(app_df)\n",
    "highnull_percentage = null_percentage[null_percentage > 40].index\n",
    "highnull_percentage.shape  # checking how many columns with nulls more than 40%"
   ]
  },
  {
   "cell_type": "code",
   "execution_count": null,
   "id": "9021ea85-88d9-4a77-8694-e84f7978dee1",
   "metadata": {},
   "outputs": [],
   "source": [
    "app_df.drop(columns=highnull_percentage,axis=1, inplace=True)"
   ]
  },
  {
   "cell_type": "code",
   "execution_count": null,
   "id": "1e81e582-b3ba-49b6-b8eb-ebe65a442dd1",
   "metadata": {},
   "outputs": [],
   "source": [
    "app_df.shape  # as we can see 49 columns has been dropped"
   ]
  },
  {
   "cell_type": "markdown",
   "id": "111c839b-caec-4fd8-98ad-e9416ca417e3",
   "metadata": {},
   "source": [
    " "
   ]
  },
  {
   "cell_type": "markdown",
   "id": "678be225-e5c7-43c8-b179-a873f1760b25",
   "metadata": {},
   "source": [
    "#### OCCUPATION_TYPE Column Cleaning\n",
    "\n"
   ]
  },
  {
   "cell_type": "code",
   "execution_count": null,
   "id": "a95c0891-8d0f-43b0-83a5-cec6f3f37308",
   "metadata": {},
   "outputs": [],
   "source": [
    "app_df.OCCUPATION_TYPE.value_counts()"
   ]
  },
  {
   "cell_type": "code",
   "execution_count": null,
   "id": "4670a0e7-b3ae-4f86-9159-018c89cb631e",
   "metadata": {},
   "outputs": [],
   "source": [
    "app_df.OCCUPATION_TYPE.describe()"
   ]
  },
  {
   "cell_type": "code",
   "execution_count": null,
   "id": "644a3992-b7f6-47a4-972a-09ecd39fee55",
   "metadata": {},
   "outputs": [],
   "source": [
    "app_df.OCCUPATION_TYPE.isnull().sum()"
   ]
  },
  {
   "cell_type": "markdown",
   "id": "42862caa-b01a-4180-ba92-3cf9b7fa6429",
   "metadata": {},
   "source": [
    " "
   ]
  },
  {
   "cell_type": "markdown",
   "id": "5a20e58e-3821-417e-8f59-63eaae5994ff",
   "metadata": {},
   "source": [
    "##### Will check parallel column of \"NAME_INCOME_TYPE\" and reduce the nulls in occupation type."
   ]
  },
  {
   "cell_type": "code",
   "execution_count": null,
   "id": "b0d16be1-326a-4ded-a174-4eeb593bd730",
   "metadata": {},
   "outputs": [],
   "source": [
    "null_occupation = app_df[app_df['OCCUPATION_TYPE'].isnull()]"
   ]
  },
  {
   "cell_type": "code",
   "execution_count": null,
   "id": "d185c087-1ed7-4472-866d-0e112d6d679e",
   "metadata": {},
   "outputs": [],
   "source": [
    "null_occupation.groupby(\"NAME_INCOME_TYPE\",dropna=False)[\"SK_ID_CURR\"].count()"
   ]
  },
  {
   "cell_type": "code",
   "execution_count": null,
   "id": "fdb7c83f-1370-41e1-a150-ae4263dd147f",
   "metadata": {},
   "outputs": [],
   "source": [
    "app_df.OCCUPATION_TYPE.unique()"
   ]
  },
  {
   "cell_type": "code",
   "execution_count": null,
   "id": "b55de83d-e9d2-4cf4-9da0-624f7a20c3bc",
   "metadata": {},
   "outputs": [],
   "source": [
    "app_df.loc[app_df[\"NAME_INCOME_TYPE\"] == \"Pensioner\", \"OCCUPATION_TYPE\"] = \"Retired\""
   ]
  },
  {
   "cell_type": "code",
   "execution_count": null,
   "id": "3e5b9ae5-ed9d-4f99-a36e-7f4ee0df7ae2",
   "metadata": {},
   "outputs": [],
   "source": [
    "app_df.OCCUPATION_TYPE.mode()[0]"
   ]
  },
  {
   "cell_type": "markdown",
   "id": "60d9cd42-47aa-4843-ac90-79a19d02f2e8",
   "metadata": {},
   "source": [
    " "
   ]
  },
  {
   "cell_type": "markdown",
   "id": "6c0736dd-6c58-4da6-b708-e3388a738bcc",
   "metadata": {},
   "source": [
    "#Now we can fill the nulls with mode value"
   ]
  },
  {
   "cell_type": "markdown",
   "id": "8c62b722-cd5f-4856-9bc3-c002b604bb88",
   "metadata": {},
   "source": [
    " "
   ]
  },
  {
   "cell_type": "code",
   "execution_count": null,
   "id": "8f3d1dbd-81b5-4c16-ace9-cc7887ff0710",
   "metadata": {},
   "outputs": [],
   "source": [
    "app_df.OCCUPATION_TYPE.fillna(app_df.OCCUPATION_TYPE.mode()[0],inplace=True)"
   ]
  },
  {
   "cell_type": "markdown",
   "id": "3b35cdc3-8f9b-4b43-b124-dcffde9d6095",
   "metadata": {},
   "source": [
    " "
   ]
  },
  {
   "cell_type": "markdown",
   "id": "ec7f421c-f25a-4d4a-8406-25a49b098cb3",
   "metadata": {},
   "source": [
    "#### EXT_SOURCE_3 Column Cleaning"
   ]
  },
  {
   "cell_type": "markdown",
   "id": "6be56f28-3c3d-4756-a12e-43fa65958c8c",
   "metadata": {},
   "source": [
    " "
   ]
  },
  {
   "cell_type": "code",
   "execution_count": null,
   "id": "69f20421-a4af-4eff-b750-69f8b13bd0dc",
   "metadata": {},
   "outputs": [],
   "source": [
    "app_df.EXT_SOURCE_3.describe()"
   ]
  },
  {
   "cell_type": "code",
   "execution_count": null,
   "id": "da1c5b0a-831c-4700-b7f8-7f629e222b4a",
   "metadata": {},
   "outputs": [],
   "source": [
    "app_df.EXT_SOURCE_3.plot.box()"
   ]
  },
  {
   "cell_type": "code",
   "execution_count": null,
   "id": "fd68a447-5f1b-4138-9129-1541b40269cc",
   "metadata": {},
   "outputs": [],
   "source": [
    "plt.figure(figsize=(12, 6))\n",
    "sns.distplot(app_df['EXT_SOURCE_3'],kde=True)\n",
    "plt.title('Density Plot of EXT_SOURCE_3')\n",
    "plt.xlabel('EXT_SOURCE_3')\n",
    "plt.ylabel('Density')\n",
    "\n",
    "plt.tight_layout()\n",
    "plt.show()"
   ]
  },
  {
   "cell_type": "code",
   "execution_count": null,
   "id": "bc2ce577-0ca6-4b3f-846c-eeaf827cbd7f",
   "metadata": {},
   "outputs": [],
   "source": [
    "# since this column is left skewed, so going with median imputation"
   ]
  },
  {
   "cell_type": "code",
   "execution_count": null,
   "id": "b0cf26f8-d5ef-42a5-8452-0b7f928d2604",
   "metadata": {},
   "outputs": [],
   "source": [
    "app_df.EXT_SOURCE_3.skew()"
   ]
  },
  {
   "cell_type": "code",
   "execution_count": null,
   "id": "c6cfe16b-8089-405d-979f-9500d650d415",
   "metadata": {},
   "outputs": [],
   "source": [
    "app_df.EXT_SOURCE_3.fillna(app_df.EXT_SOURCE_3.median(),inplace = True)"
   ]
  },
  {
   "cell_type": "code",
   "execution_count": null,
   "id": "9245699c-7bdb-48b1-9e1e-775d881be3a4",
   "metadata": {},
   "outputs": [],
   "source": [
    "sns.histplot(data=app_df,x='EXT_SOURCE_3',bins=50)"
   ]
  },
  {
   "cell_type": "code",
   "execution_count": null,
   "id": "dc68c55e-945f-4dfd-85cf-ae07f4be48ec",
   "metadata": {},
   "outputs": [],
   "source": [
    "sns.boxplot(data=app_df,y='EXT_SOURCE_3')"
   ]
  },
  {
   "cell_type": "code",
   "execution_count": null,
   "id": "1b040c92-9a72-4b5b-8f1f-eb523b3df024",
   "metadata": {},
   "outputs": [],
   "source": [
    "plt.figure(figsize=(12, 6))\n",
    "sns.distplot(app_df['EXT_SOURCE_3'],kde=True)\n",
    "plt.title('Density Plot of EXT_SOURCE_3')\n",
    "plt.xlabel('EXT_SOURCE_3')\n",
    "plt.ylabel('Density')\n",
    "\n",
    "plt.tight_layout()\n",
    "plt.show()"
   ]
  },
  {
   "cell_type": "code",
   "execution_count": null,
   "id": "7c5887c1-8dee-4e5e-82f9-d867a2e3a465",
   "metadata": {},
   "outputs": [],
   "source": []
  },
  {
   "cell_type": "markdown",
   "id": "77de5baf-bca8-460c-aee0-a3b2c8b3549b",
   "metadata": {},
   "source": [
    "------"
   ]
  },
  {
   "cell_type": "markdown",
   "id": "347e2f54-9637-4746-85e3-03d27349ba18",
   "metadata": {},
   "source": [
    " "
   ]
  },
  {
   "cell_type": "markdown",
   "id": "5ddcb926-786d-4e97-80de-e26a026a09bc",
   "metadata": {},
   "source": [
    "#### Credit Bureau Columns Cleaning"
   ]
  },
  {
   "cell_type": "markdown",
   "id": "ea27a72f-ee39-4c18-aa0a-c763f6cfb11d",
   "metadata": {},
   "source": [
    " "
   ]
  },
  {
   "cell_type": "code",
   "execution_count": null,
   "id": "51455865-d750-4ec9-baf2-b0fe07091639",
   "metadata": {},
   "outputs": [],
   "source": [
    "cred_b_columns = [\"AMT_REQ_CREDIT_BUREAU_YEAR\",\"AMT_REQ_CREDIT_BUREAU_QRT\",\"AMT_REQ_CREDIT_BUREAU_MON\",\"AMT_REQ_CREDIT_BUREAU_WEEK\",\"AMT_REQ_CREDIT_BUREAU_DAY\",\"AMT_REQ_CREDIT_BUREAU_HOUR\"]\n",
    "cred_b_columns"
   ]
  },
  {
   "cell_type": "code",
   "execution_count": null,
   "id": "30aa7df4-67f2-4b76-a92c-22f1982b9843",
   "metadata": {
    "editable": true,
    "slideshow": {
     "slide_type": ""
    },
    "tags": []
   },
   "outputs": [],
   "source": [
    "app_df.loc[:, cred_b_columns].describe()"
   ]
  },
  {
   "cell_type": "markdown",
   "id": "46648ada-e10c-453d-a447-4bc4bd3e9ff3",
   "metadata": {},
   "source": [
    "Lets find out outlier for each column using IQR , since data is skewed."
   ]
  },
  {
   "cell_type": "code",
   "execution_count": null,
   "id": "231e7cbf-f6b6-4c1f-84d6-dcdbd898e949",
   "metadata": {},
   "outputs": [],
   "source": [
    "IQR = 3-0\n",
    "lower_bound = 0 - 1.5 * IQR\n",
    "upper_bound = 3 + 1.5 * IQR\n",
    "\n",
    "print(\"Lower Bound of Credit Bureau Year : \", lower_bound)\n",
    "print(\"Upper Bound of Credit Bureau Year : \", upper_bound)"
   ]
  },
  {
   "cell_type": "code",
   "execution_count": null,
   "id": "4364d612-addb-447b-ac13-4917a1960764",
   "metadata": {},
   "outputs": [],
   "source": [
    "app_df = app_df[~(app_df.AMT_REQ_CREDIT_BUREAU_YEAR > 8)]"
   ]
  },
  {
   "cell_type": "code",
   "execution_count": null,
   "id": "4ebb1b4c-775a-4f7a-8b44-4144a8f816f2",
   "metadata": {},
   "outputs": [],
   "source": [
    "app_df.AMT_REQ_CREDIT_BUREAU_QRT.unique()"
   ]
  },
  {
   "cell_type": "code",
   "execution_count": null,
   "id": "0775bad1-73a1-4e1e-8abf-27e8a2f46aab",
   "metadata": {},
   "outputs": [],
   "source": [
    "app_df = app_df[~(app_df.AMT_REQ_CREDIT_BUREAU_QRT > 8)]"
   ]
  },
  {
   "cell_type": "code",
   "execution_count": null,
   "id": "a4c6554f-8c27-42ac-8694-96d844d49107",
   "metadata": {},
   "outputs": [],
   "source": [
    "app_df = app_df[~(app_df.AMT_REQ_CREDIT_BUREAU_MON > 8)]"
   ]
  },
  {
   "cell_type": "code",
   "execution_count": null,
   "id": "4004cd15-003f-46dd-955b-2f82c2363189",
   "metadata": {},
   "outputs": [],
   "source": [
    "app_df = app_df[~(app_df.AMT_REQ_CREDIT_BUREAU_WEEK > 8)]"
   ]
  },
  {
   "cell_type": "code",
   "execution_count": null,
   "id": "c2cf2179-ed4e-42a7-9eee-9ef2be57ff5d",
   "metadata": {},
   "outputs": [],
   "source": [
    "app_df = app_df[~(app_df.AMT_REQ_CREDIT_BUREAU_DAY > 8)]"
   ]
  },
  {
   "cell_type": "code",
   "execution_count": null,
   "id": "8c8bc991-c527-455d-b2d1-d21994fe4d2c",
   "metadata": {},
   "outputs": [],
   "source": [
    "app_df[cred_b_columns] = app_df[cred_b_columns].fillna(app_df[cred_b_columns].median() )"
   ]
  },
  {
   "cell_type": "code",
   "execution_count": null,
   "id": "48655244-c099-4366-989a-597d558e64e0",
   "metadata": {},
   "outputs": [],
   "source": [
    "checknull(app_df[cred_b_columns])"
   ]
  },
  {
   "cell_type": "markdown",
   "id": "7ca04147-99e0-4f21-9323-6017691c4253",
   "metadata": {},
   "source": [
    " "
   ]
  },
  {
   "cell_type": "markdown",
   "id": "fe9693ab-a555-4086-928c-07464487d65d",
   "metadata": {},
   "source": [
    "#### Feature Engineering On Credit Bureau Columns to Total Enquiry Per Year by Client"
   ]
  },
  {
   "cell_type": "markdown",
   "id": "ca9d029b-6aca-4a48-9ce4-f356dc885aeb",
   "metadata": {},
   "source": [
    " "
   ]
  },
  {
   "cell_type": "code",
   "execution_count": null,
   "id": "40bc4dfc-cd8c-4cfb-8d73-28a5a83186ee",
   "metadata": {},
   "outputs": [],
   "source": [
    "app_df[\"Total_Req_Credit_Enq_Year\"] = app_df[cred_b_columns].sum(axis=1)"
   ]
  },
  {
   "cell_type": "code",
   "execution_count": null,
   "id": "4544087c-0f62-4bdc-96ec-b7754a8cfcbb",
   "metadata": {},
   "outputs": [],
   "source": [
    "app_df.Total_Req_Credit_Enq_Year.describe()"
   ]
  },
  {
   "cell_type": "code",
   "execution_count": null,
   "id": "d2080da5-ccb0-48d8-84ab-7b235a02a03d",
   "metadata": {},
   "outputs": [],
   "source": [
    "app_df.Total_Req_Credit_Enq_Year.plot.box()"
   ]
  },
  {
   "cell_type": "code",
   "execution_count": null,
   "id": "4d9a71cb-c9b2-498a-a189-8737ca823390",
   "metadata": {},
   "outputs": [],
   "source": [
    "app_df.Total_Req_Credit_Enq_Year.plot.hist(bins=15)"
   ]
  },
  {
   "cell_type": "markdown",
   "id": "34df5bbd-af3b-438c-a6bb-ad9fa01a7353",
   "metadata": {},
   "source": [
    " "
   ]
  },
  {
   "cell_type": "markdown",
   "id": "56ea8bf0-9318-4ba2-9bc6-b2d3b91e07f3",
   "metadata": {},
   "source": [
    " "
   ]
  },
  {
   "cell_type": "markdown",
   "id": "f4d2644d-07a4-49b2-80ef-dc966afaf736",
   "metadata": {},
   "source": [
    "#### NAME_TYPE_SUITE Column Cleaning"
   ]
  },
  {
   "cell_type": "markdown",
   "id": "e2a7740d-27e1-4593-9985-abfebbb39681",
   "metadata": {},
   "source": [
    " "
   ]
  },
  {
   "cell_type": "code",
   "execution_count": null,
   "id": "47b9bb00-086d-48df-bf12-21601332c4d6",
   "metadata": {},
   "outputs": [],
   "source": [
    "app_df.NAME_TYPE_SUITE.value_counts()"
   ]
  },
  {
   "cell_type": "code",
   "execution_count": null,
   "id": "17423e0a-176a-46ca-9d0c-289529777ba9",
   "metadata": {},
   "outputs": [],
   "source": [
    "app_df.NAME_TYPE_SUITE.isnull().sum()"
   ]
  },
  {
   "cell_type": "code",
   "execution_count": null,
   "id": "e9f78ced-0b51-48af-a296-3306374b834c",
   "metadata": {},
   "outputs": [],
   "source": [
    "app_df.NAME_TYPE_SUITE.mode()[0]"
   ]
  },
  {
   "cell_type": "code",
   "execution_count": null,
   "id": "4bbaa41a-973d-4671-8fd0-6efd07ed3259",
   "metadata": {},
   "outputs": [],
   "source": [
    "app_df.NAME_TYPE_SUITE.fillna(app_df.NAME_TYPE_SUITE.mode()[0],inplace = True)"
   ]
  },
  {
   "cell_type": "markdown",
   "id": "5170cbec-99d7-4d95-9059-93acb83d020b",
   "metadata": {},
   "source": [
    "#### creating new Column which has 2 Category, Accompanied ,Unaccompanied"
   ]
  },
  {
   "cell_type": "code",
   "execution_count": null,
   "id": "25cc9905-13ba-4035-ada1-4f89406defa9",
   "metadata": {},
   "outputs": [],
   "source": [
    "app_df['ACCOMPANIED_STATUS'] = app_df['NAME_TYPE_SUITE'].apply(\n",
    "    lambda x: 'Accompanied' if x in ['Family', 'Spouse, partner', 'Children', 'Other_B', 'Other_A', 'Group of people'] else 'Unaccompanied'\n",
    ")\n"
   ]
  },
  {
   "cell_type": "code",
   "execution_count": null,
   "id": "4b622abd-5b7a-44a8-9e39-0a9d3810eb76",
   "metadata": {},
   "outputs": [],
   "source": [
    "app_df['ACCOMPANIED_STATUS'].value_counts()"
   ]
  },
  {
   "cell_type": "code",
   "execution_count": null,
   "id": "36530926-a825-4008-a1b2-b726e7a4c4db",
   "metadata": {},
   "outputs": [],
   "source": [
    "app_df['NAME_TYPE_SUITE'] = app_df['NAME_TYPE_SUITE'].apply(lambda x: 'Accompanied' if x in ['Other_B', 'Other_A', 'Group of people'] else 'Others')"
   ]
  },
  {
   "cell_type": "markdown",
   "id": "4304c0c3-a693-4d93-865b-32e98282a326",
   "metadata": {},
   "source": [
    "#### Social Circle Columns Cleaning"
   ]
  },
  {
   "cell_type": "code",
   "execution_count": null,
   "id": "fa181859-5b0d-4b2c-99ec-6189c0faa545",
   "metadata": {},
   "outputs": [],
   "source": [
    "checknull(app_df).head(4)"
   ]
  },
  {
   "cell_type": "code",
   "execution_count": null,
   "id": "7d573f2a-3728-461b-956d-674aa79761af",
   "metadata": {},
   "outputs": [],
   "source": [
    "social_circle = checknull(app_df).head(4).index"
   ]
  },
  {
   "cell_type": "code",
   "execution_count": null,
   "id": "4ab9cba6-d0b0-4946-806d-24731136ef55",
   "metadata": {
    "scrolled": true
   },
   "outputs": [],
   "source": [
    "app_df[social_circle].describe()"
   ]
  },
  {
   "cell_type": "code",
   "execution_count": null,
   "id": "68246c70-70ca-4f55-b293-88829c75d908",
   "metadata": {},
   "outputs": [],
   "source": []
  },
  {
   "cell_type": "code",
   "execution_count": null,
   "id": "95cb5d56-caa2-4cfb-bc84-16a27193b5b0",
   "metadata": {},
   "outputs": [],
   "source": [
    "def remove_outliers(data):\n",
    "    Q1 = data.quantile(0.25)\n",
    "    Q3 = data.quantile(0.75)\n",
    "    IQR = Q3 - Q1\n",
    "    lower_bound = Q1 - 1.5 * IQR\n",
    "    upper_bound = Q3 + 1.5 * IQR\n",
    "    return data[(data >= lower_bound) & (data <= upper_bound)]"
   ]
  },
  {
   "cell_type": "code",
   "execution_count": null,
   "id": "554fd8ef-6d5c-4eef-9df1-37e08fe2e2f1",
   "metadata": {},
   "outputs": [],
   "source": [
    "app_df['OBS_60_CNT_SOCIAL_CIRCLE'] = remove_outliers(app_df['OBS_60_CNT_SOCIAL_CIRCLE'])\n",
    "app_df['DEF_60_CNT_SOCIAL_CIRCLE'] = remove_outliers(app_df['DEF_60_CNT_SOCIAL_CIRCLE'])\n",
    "app_df['OBS_30_CNT_SOCIAL_CIRCLE'] = remove_outliers(app_df['OBS_30_CNT_SOCIAL_CIRCLE'])\n",
    "app_df['DEF_30_CNT_SOCIAL_CIRCLE'] = remove_outliers(app_df['DEF_30_CNT_SOCIAL_CIRCLE'])"
   ]
  },
  {
   "cell_type": "code",
   "execution_count": null,
   "id": "12e10e9c-e1b9-4a94-bfe9-fa4eb77b862b",
   "metadata": {},
   "outputs": [],
   "source": [
    "app_df[social_circle].describe()"
   ]
  },
  {
   "cell_type": "code",
   "execution_count": null,
   "id": "739341e4-32c3-498a-b4e5-141c04025cd9",
   "metadata": {},
   "outputs": [],
   "source": [
    "app_df['OBS_60_CNT_SOCIAL_CIRCLE'].fillna(app_df['OBS_60_CNT_SOCIAL_CIRCLE'].median(), inplace=True)\n",
    "app_df['DEF_60_CNT_SOCIAL_CIRCLE'].fillna(app_df['DEF_60_CNT_SOCIAL_CIRCLE'].median(), inplace=True)\n",
    "app_df['OBS_30_CNT_SOCIAL_CIRCLE'].fillna(app_df['OBS_30_CNT_SOCIAL_CIRCLE'].median(), inplace=True)\n",
    "app_df['DEF_30_CNT_SOCIAL_CIRCLE'].fillna(app_df['DEF_30_CNT_SOCIAL_CIRCLE'].median(), inplace=True)"
   ]
  },
  {
   "cell_type": "code",
   "execution_count": null,
   "id": "2e1c0a15-31d6-46a7-ad28-9371353bc195",
   "metadata": {},
   "outputs": [],
   "source": [
    "app_df['DEF_30_CNT_SOCIAL_CIRCLE'].isnull().sum()"
   ]
  },
  {
   "cell_type": "code",
   "execution_count": null,
   "id": "4b7594e3-d4c4-4029-860f-d4f776575d2c",
   "metadata": {},
   "outputs": [],
   "source": [
    "print(app_df['DEF_30_CNT_SOCIAL_CIRCLE'].dtype)\n",
    "print(app_df['DEF_30_CNT_SOCIAL_CIRCLE'].unique())"
   ]
  },
  {
   "cell_type": "code",
   "execution_count": null,
   "id": "222d452f-7908-405b-9ebd-1e2f904ab01b",
   "metadata": {},
   "outputs": [],
   "source": [
    "print(app_df['DEF_60_CNT_SOCIAL_CIRCLE'].dtype)\n",
    "print(app_df['DEF_60_CNT_SOCIAL_CIRCLE'].unique())"
   ]
  },
  {
   "cell_type": "markdown",
   "id": "1d158c51-68f7-4f87-8c35-b1ac21ccbb19",
   "metadata": {},
   "source": [
    "#### EXT_SOURCE_2 Column Cleaning"
   ]
  },
  {
   "cell_type": "code",
   "execution_count": null,
   "id": "4b414bac-e582-4b65-af8d-86d0c50aa7c0",
   "metadata": {},
   "outputs": [],
   "source": [
    "app_df.EXT_SOURCE_2.describe()"
   ]
  },
  {
   "cell_type": "code",
   "execution_count": null,
   "id": "32f34c2e-4ce9-4cbe-9348-abe0fda2d360",
   "metadata": {},
   "outputs": [],
   "source": [
    "app_df.EXT_SOURCE_2.plot.box()\n",
    "plt.show()"
   ]
  },
  {
   "cell_type": "code",
   "execution_count": null,
   "id": "4963136b-99f4-41dd-95b4-b3fa6e10bb03",
   "metadata": {},
   "outputs": [],
   "source": [
    "app_df.EXT_SOURCE_2.plot.hist()\n",
    "plt.show()"
   ]
  },
  {
   "cell_type": "code",
   "execution_count": null,
   "id": "06603aad-c0e0-40f7-a4f1-21babb742879",
   "metadata": {},
   "outputs": [],
   "source": [
    "app_df.EXT_SOURCE_2.median()"
   ]
  },
  {
   "cell_type": "code",
   "execution_count": null,
   "id": "63c0a781-9e89-4a9a-8f5c-95c96eab911a",
   "metadata": {},
   "outputs": [],
   "source": [
    "app_df.EXT_SOURCE_2.fillna(app_df.EXT_SOURCE_2.median(),inplace=True)"
   ]
  },
  {
   "cell_type": "markdown",
   "id": "4b4bb447-bff7-4709-b864-70d7ee859199",
   "metadata": {},
   "source": [
    " "
   ]
  },
  {
   "cell_type": "markdown",
   "id": "5d0ced44-afdc-46ec-a4ef-915461a620ee",
   "metadata": {},
   "source": [
    " "
   ]
  },
  {
   "cell_type": "markdown",
   "id": "0e351d99-1a2f-483f-b904-37047cc2b09a",
   "metadata": {},
   "source": [
    "#### AMT_GOODS_PRICE Column Cleaning"
   ]
  },
  {
   "cell_type": "code",
   "execution_count": null,
   "id": "d12808ba-21f5-4cc1-a6c2-6342093408f3",
   "metadata": {},
   "outputs": [],
   "source": [
    "app_df.AMT_GOODS_PRICE.plot.box()\n",
    "plt.show()"
   ]
  },
  {
   "cell_type": "code",
   "execution_count": null,
   "id": "4a3cf806-a432-449a-8c92-8aa3724bc8c5",
   "metadata": {},
   "outputs": [],
   "source": [
    "app_df.AMT_GOODS_PRICE.plot.hist()\n",
    "plt.show()"
   ]
  },
  {
   "cell_type": "code",
   "execution_count": null,
   "id": "2ec47845-a629-4ba3-b6bd-fee6c8e140e7",
   "metadata": {},
   "outputs": [],
   "source": [
    "app_df.AMT_GOODS_PRICE.median()"
   ]
  },
  {
   "cell_type": "code",
   "execution_count": null,
   "id": "fe6abbab-28c1-47dc-b4e2-7055e44fadc7",
   "metadata": {},
   "outputs": [],
   "source": [
    "app_df.AMT_GOODS_PRICE.describe()"
   ]
  },
  {
   "cell_type": "code",
   "execution_count": null,
   "id": "c670f225-970b-42f3-8ce0-f080dad5a2d6",
   "metadata": {},
   "outputs": [],
   "source": [
    "app_df.AMT_GOODS_PRICE.fillna(app_df.AMT_GOODS_PRICE.median(),inplace=True)"
   ]
  },
  {
   "cell_type": "markdown",
   "id": "a97304be-49d4-4ace-b0eb-f3c54deae389",
   "metadata": {},
   "source": [
    "#### AMT_ANNUITY Column cleaning"
   ]
  },
  {
   "cell_type": "code",
   "execution_count": null,
   "id": "62af9c59-d5e0-4736-a8ba-791789f81a1c",
   "metadata": {},
   "outputs": [],
   "source": [
    "app_df.AMT_ANNUITY.describe()"
   ]
  },
  {
   "cell_type": "code",
   "execution_count": null,
   "id": "73c6c5cc-d91c-4fbd-92fb-a7e34637e270",
   "metadata": {},
   "outputs": [],
   "source": [
    "app_df.AMT_ANNUITY.plot.box()"
   ]
  },
  {
   "cell_type": "code",
   "execution_count": null,
   "id": "da5a2ee0-fcac-4344-8d36-01309189375b",
   "metadata": {},
   "outputs": [],
   "source": [
    "app_df.AMT_ANNUITY.plot.hist()"
   ]
  },
  {
   "cell_type": "code",
   "execution_count": null,
   "id": "6f3028a6-3daf-41e2-8842-2157faa10e8d",
   "metadata": {},
   "outputs": [],
   "source": [
    "app_df[app_df.AMT_ANNUITY > 200000]"
   ]
  },
  {
   "cell_type": "code",
   "execution_count": null,
   "id": "bc84cd62-ce6e-4af6-8c3d-77820d10c119",
   "metadata": {},
   "outputs": [],
   "source": [
    "app_df.AMT_ANNUITY.median()"
   ]
  },
  {
   "cell_type": "code",
   "execution_count": null,
   "id": "c2d10ff0-a539-439d-ba04-d608597a54c7",
   "metadata": {},
   "outputs": [],
   "source": [
    "app_df.AMT_ANNUITY.fillna(app_df.AMT_ANNUITY.median(),inplace=True)"
   ]
  },
  {
   "cell_type": "markdown",
   "id": "20e1d2c3-80d4-469b-9a70-fd3f14e4f333",
   "metadata": {},
   "source": [
    "#### CNT_FAM_MEMBERS Column Cleaning"
   ]
  },
  {
   "cell_type": "code",
   "execution_count": null,
   "id": "06df7a88-6f88-450c-aff1-e50ae1814816",
   "metadata": {},
   "outputs": [],
   "source": [
    "app_df.CNT_FAM_MEMBERS.describe()"
   ]
  },
  {
   "cell_type": "code",
   "execution_count": null,
   "id": "4309f639-82c4-4522-b9af-eae92af7e726",
   "metadata": {},
   "outputs": [],
   "source": [
    "app_df.CNT_FAM_MEMBERS.plot.hist()"
   ]
  },
  {
   "cell_type": "code",
   "execution_count": null,
   "id": "b2d93133-0929-4057-87e0-79484ebcd4ab",
   "metadata": {},
   "outputs": [],
   "source": [
    "app_df.CNT_FAM_MEMBERS.plot.box()"
   ]
  },
  {
   "cell_type": "code",
   "execution_count": null,
   "id": "5fb25ca8-ff35-474a-bcad-e549021c876b",
   "metadata": {},
   "outputs": [],
   "source": [
    "app_df.NAME_FAMILY_STATUS.unique()"
   ]
  },
  {
   "cell_type": "code",
   "execution_count": null,
   "id": "9fc381db-9bda-4438-9ad9-a714e11c8d33",
   "metadata": {},
   "outputs": [],
   "source": [
    "app_df.NAME_HOUSING_TYPE.unique()"
   ]
  },
  {
   "cell_type": "code",
   "execution_count": null,
   "id": "968cd255-8aee-4f94-9498-7c2fbbac9703",
   "metadata": {},
   "outputs": [],
   "source": [
    "app_df.NAME_TYPE_SUITE.unique()"
   ]
  },
  {
   "cell_type": "code",
   "execution_count": null,
   "id": "d9cc68b1-334b-4f93-b5a0-ae29c0ffe061",
   "metadata": {},
   "outputs": [],
   "source": [
    "app_df[app_df['CNT_FAM_MEMBERS'] > 7 ].shape"
   ]
  },
  {
   "cell_type": "code",
   "execution_count": null,
   "id": "8a5e21e3-edae-4307-89b2-bcf06b340dbc",
   "metadata": {},
   "outputs": [],
   "source": [
    "app_df = app_df[~((app_df['CNT_FAM_MEMBERS'] > 7 ) &  (app_df['NAME_FAMILY_STATUS'] == 'Single / not married'))]"
   ]
  },
  {
   "cell_type": "markdown",
   "id": "cd4c93af-2364-4be7-8bf2-3f2c024b3528",
   "metadata": {},
   "source": [
    " "
   ]
  },
  {
   "cell_type": "markdown",
   "id": "1ded51a2-792c-445d-94f7-1427e32e1fcc",
   "metadata": {},
   "source": [
    "`Removed only rows who has family size of more than 7 and single since its impossible`"
   ]
  },
  {
   "cell_type": "markdown",
   "id": "a7f47753-35d5-4873-9ab3-3f3142cef93e",
   "metadata": {},
   "source": [
    " "
   ]
  },
  {
   "cell_type": "code",
   "execution_count": null,
   "id": "f55e5ef3-6021-4387-afc1-da6155dec4d0",
   "metadata": {
    "scrolled": true
   },
   "outputs": [],
   "source": [
    "app_df[app_df['CNT_FAM_MEMBERS'] >7 ]"
   ]
  },
  {
   "cell_type": "markdown",
   "id": "8fdb08c3-56ef-415d-8544-fee9c6f87c4c",
   "metadata": {},
   "source": [
    "`Even though size of this is small, still i feel like its better to keep these rows and check if family size actually affects client being defaulters` <br> `\"this is hypothesis of mine\" so im keeping this rows to check later in analysis steps.`"
   ]
  },
  {
   "cell_type": "code",
   "execution_count": null,
   "id": "f98f4a1f-415e-4ef2-b42d-f2281628642d",
   "metadata": {},
   "outputs": [],
   "source": [
    "app_df.CNT_FAM_MEMBERS.median()"
   ]
  },
  {
   "cell_type": "code",
   "execution_count": null,
   "id": "08676e37-8070-4c43-847d-131e13a1bed5",
   "metadata": {},
   "outputs": [],
   "source": [
    "app_df.CNT_FAM_MEMBERS.fillna(app_df.CNT_FAM_MEMBERS.median(),inplace=True)"
   ]
  },
  {
   "cell_type": "markdown",
   "id": "f0e3584a-c4ac-4fb7-b290-017b8c49d499",
   "metadata": {},
   "source": [
    "#### DAYS_LAST_PHONE_CHANGE Column cleaning"
   ]
  },
  {
   "cell_type": "code",
   "execution_count": null,
   "id": "cd7f9dc4-c7eb-409c-9029-aae86adb167c",
   "metadata": {},
   "outputs": [],
   "source": [
    "app_df.DAYS_LAST_PHONE_CHANGE.describe()"
   ]
  },
  {
   "cell_type": "code",
   "execution_count": null,
   "id": "90c4c5ea-7a35-46ce-ae23-36fa3efbd930",
   "metadata": {},
   "outputs": [],
   "source": [
    "app_df.DAYS_LAST_PHONE_CHANGE.median()"
   ]
  },
  {
   "cell_type": "code",
   "execution_count": null,
   "id": "86806e41-0ce6-4697-80d5-bb6f55803666",
   "metadata": {},
   "outputs": [],
   "source": [
    "app_df.DAYS_LAST_PHONE_CHANGE.plot.hist()"
   ]
  },
  {
   "cell_type": "code",
   "execution_count": null,
   "id": "51c2b576-347d-40b6-8c74-5f9c51c2b81b",
   "metadata": {},
   "outputs": [],
   "source": [
    "app_df.DAYS_LAST_PHONE_CHANGE.fillna(app_df.DAYS_LAST_PHONE_CHANGE.median(),inplace=True)"
   ]
  },
  {
   "cell_type": "markdown",
   "id": "77888723-98f8-4a8b-ba38-4a0857b4109f",
   "metadata": {},
   "source": [
    "#### Creating new bin columns for columns below : \n",
    "- AMT_INCOME_TOTAL,\n",
    "- AMT_CREDIT,\n",
    "- AMT_ANNUITY,\n",
    "- AMT_GOODS_PRICE,\n",
    "- DAYS_BIRTH,\n",
    "- DAYS_EMPLOYED,\n",
    "- DAYS_REGISTRATION,\n",
    "- DAYS_ID_PUBLISH "
   ]
  },
  {
   "cell_type": "code",
   "execution_count": null,
   "id": "db505aaf-060a-478d-853c-ec891fbdca00",
   "metadata": {},
   "outputs": [],
   "source": [
    "bins = [0, 300000, 600000, 1000000, 1500000, 2000000, float('inf')]\n",
    "labels = ['0-3 lakhs', '3-6 lakhs', '6-10 lakhs', '10-15 lakhs', '15-20 lakhs', '20+ lakhs']\n",
    "app_df['Income_Category'] = pd.cut(app_df['AMT_INCOME_TOTAL'], bins=bins, labels=labels, right=False)\n",
    "print(app_df[['AMT_INCOME_TOTAL', 'Income_Category']].head(10))"
   ]
  },
  {
   "cell_type": "code",
   "execution_count": null,
   "id": "275a25e7-2cad-4116-9913-4a821fac220e",
   "metadata": {},
   "outputs": [],
   "source": [
    "credit_bins = [0, 100000, 300000, 500000, 750000, 1000000, 2000000, float('inf')]\n",
    "credit_labels = ['0-1 lakh', '1-3 lakhs', '3-5 lakhs', '5-7.5 lakhs', '7.5-10 lakhs', '10-20 lakhs', '20+ lakhs']\n",
    "app_df['Credit_Category'] = pd.cut(app_df['AMT_CREDIT'], bins=credit_bins, labels=credit_labels, right=False)\n",
    "print(app_df[['AMT_CREDIT', 'Credit_Category']].head())"
   ]
  },
  {
   "cell_type": "code",
   "execution_count": null,
   "id": "17ae3ddc-96b6-4ee5-8090-8e7b0e5e959e",
   "metadata": {},
   "outputs": [],
   "source": [
    "annuity_bins = [0, 10000, 20000, 30000, 40000, 50000, 70000, float('inf')]\n",
    "annuity_labels = ['0-10k', '10k-20k', '20k-30k', '30k-40k', '40k-50k', '50k-70k', '70k+']\n",
    "app_df['Annuity_Category'] = pd.cut(app_df['AMT_ANNUITY'], bins=annuity_bins, labels=annuity_labels, right=False)\n",
    "print(app_df[['AMT_ANNUITY', 'Annuity_Category']].head())"
   ]
  },
  {
   "cell_type": "code",
   "execution_count": null,
   "id": "6731c4c6-6480-4c5d-8aae-8f464e59f24b",
   "metadata": {},
   "outputs": [],
   "source": [
    "goods_price_bins = [0, 100000, 300000, 500000, 750000, 1000000, 2000000, float('inf')]\n",
    "goods_price_labels = ['0-1 lakh', '1-3 lakhs', '3-5 lakhs', '5-7.5 lakhs', '7.5-10 lakhs', '10-20 lakhs', '20+ lakhs']\n",
    "app_df['Goods_Price_Category'] = pd.cut(app_df['AMT_GOODS_PRICE'], bins=goods_price_bins, labels=goods_price_labels, right=False)\n",
    "print(app_df[['AMT_GOODS_PRICE', 'Goods_Price_Category']].head())"
   ]
  },
  {
   "cell_type": "code",
   "execution_count": null,
   "id": "9beba8cb-b2d0-493f-b92f-cd9f9d523eaf",
   "metadata": {},
   "outputs": [],
   "source": [
    "app_df['AGE_YEARS'] = (-app_df['DAYS_BIRTH'] / 365).astype(int)\n",
    "age_bins = [0, 25, 35, 45, 55, 65, float('inf')]\n",
    "age_labels = ['0-25', '26-35', '36-45', '46-55', '56-65', '65+']\n",
    "app_df['Age_Category'] = pd.cut(app_df['AGE_YEARS'], bins=age_bins, labels=age_labels, right=False)\n",
    "print(app_df[['DAYS_BIRTH', 'AGE_YEARS', 'Age_Category']].head())"
   ]
  },
  {
   "cell_type": "code",
   "execution_count": null,
   "id": "6837dc53-7071-4fd0-8b07-79b08d8d62f9",
   "metadata": {},
   "outputs": [],
   "source": [
    "app_df['EMPLOYMENT_YEARS'] = (-app_df['DAYS_EMPLOYED'] / 365).astype(int)\n",
    "employment_bins = [0, 1, 3, 5, 10, 20, float('inf')]\n",
    "employment_labels = ['0-1 year', '1-3 years', '3-5 years', '5-10 years', '10-20 years', '20+ years']\n",
    "app_df['Employment_Category'] = pd.cut(app_df['EMPLOYMENT_YEARS'], bins=employment_bins, labels=employment_labels, right=False)\n",
    "print(app_df[['DAYS_EMPLOYED', 'EMPLOYMENT_YEARS', 'Employment_Category']].head())"
   ]
  },
  {
   "cell_type": "code",
   "execution_count": null,
   "id": "e284f294-4555-4917-9d81-32eeada77471",
   "metadata": {},
   "outputs": [],
   "source": [
    "app_df['REGISTRATION_YEARS'] = (-app_df['DAYS_REGISTRATION'] / 365).astype(int)\n",
    "registration_bins = [0, 1, 3, 5, 10, 20, float('inf')]\n",
    "registration_labels = ['0-1 year', '1-3 years', '3-5 years', '5-10 years', '10-20 years', '20+ years']\n",
    "app_df['Registration_Category'] = pd.cut(app_df['REGISTRATION_YEARS'], bins=registration_bins, labels=registration_labels, right=False)\n",
    "print(app_df[['DAYS_REGISTRATION', 'REGISTRATION_YEARS', 'Registration_Category']].head())"
   ]
  },
  {
   "cell_type": "code",
   "execution_count": null,
   "id": "d11500da-0ae8-4360-9153-3d9dc6e3f333",
   "metadata": {},
   "outputs": [],
   "source": [
    "app_df['ID_PUBLISH_YEARS'] = (-app_df['DAYS_ID_PUBLISH'] / 365).astype(int)\n",
    "id_publish_bins = [0, 1, 3, 5, 10, 20, float('inf')]\n",
    "id_publish_labels = ['0-1 year', '1-3 years', '3-5 years', '5-10 years', '10-20 years', '20+ years']\n",
    "app_df['ID_Publish_Category'] = pd.cut(app_df['ID_PUBLISH_YEARS'], bins=id_publish_bins, labels=id_publish_labels, right=False)\n",
    "print(app_df[['DAYS_ID_PUBLISH', 'ID_PUBLISH_YEARS', 'ID_Publish_Category']].head())"
   ]
  },
  {
   "cell_type": "markdown",
   "id": "af4f0d41-b4ef-4c6f-b852-195d43759335",
   "metadata": {},
   "source": [
    " "
   ]
  },
  {
   "cell_type": "markdown",
   "id": "daeea726-5cef-456a-95ab-aeeeddd2b738",
   "metadata": {},
   "source": [
    " "
   ]
  },
  {
   "cell_type": "markdown",
   "id": "07ec0097-a70c-41b2-af10-7e39e86e7d25",
   "metadata": {},
   "source": [
    " "
   ]
  },
  {
   "cell_type": "code",
   "execution_count": null,
   "id": "b2850029-f17a-43a6-bc36-e99205c6c7fb",
   "metadata": {},
   "outputs": [],
   "source": [
    "categorical_columns = list(app_df.select_dtypes(include=\"object\").dtypes.index)"
   ]
  },
  {
   "cell_type": "code",
   "execution_count": null,
   "id": "e030f544-c2f3-4629-bb6d-e3fed289ec40",
   "metadata": {},
   "outputs": [],
   "source": [
    "categorical_columns"
   ]
  },
  {
   "cell_type": "code",
   "execution_count": null,
   "id": "6d24fb15-bbaf-4990-be35-725803a6316d",
   "metadata": {},
   "outputs": [],
   "source": [
    "app_df[categorical_columns[0]].unique()"
   ]
  },
  {
   "cell_type": "code",
   "execution_count": null,
   "id": "125e9dea-9a7f-4e87-bac6-fc80e5a1f19d",
   "metadata": {},
   "outputs": [],
   "source": [
    "app_df[categorical_columns[1]].unique()"
   ]
  },
  {
   "cell_type": "markdown",
   "id": "f2abb242-cecc-46e1-9238-b417c4c060c4",
   "metadata": {},
   "source": [
    " "
   ]
  },
  {
   "cell_type": "markdown",
   "id": "26ca9dba-f00d-4b53-93e2-87c1e38e51bb",
   "metadata": {},
   "source": [
    " "
   ]
  },
  {
   "cell_type": "markdown",
   "id": "804b4ec7-7c5f-470c-bf9d-f56478fde8b6",
   "metadata": {},
   "source": [
    "#### Cleaning Gender Column"
   ]
  },
  {
   "cell_type": "code",
   "execution_count": null,
   "id": "b503854b-83e8-43ee-8fc9-39d9a2ae46bc",
   "metadata": {},
   "outputs": [],
   "source": [
    "app_df[categorical_columns[1]].value_counts()"
   ]
  },
  {
   "cell_type": "code",
   "execution_count": null,
   "id": "e0946e64-97d2-430d-88a4-a82ec342ed5c",
   "metadata": {},
   "outputs": [],
   "source": [
    "app_df = app_df[~ (app_df['CODE_GENDER'] == 'XNA')]"
   ]
  },
  {
   "cell_type": "code",
   "execution_count": null,
   "id": "c600a82b-8cf6-475c-9f48-da3444901194",
   "metadata": {},
   "outputs": [],
   "source": [
    "app_df['CODE_GENDER'] = app_df['CODE_GENDER'].apply(lambda x:\"Male\" if x == \"M\" else \"Female\")"
   ]
  },
  {
   "cell_type": "code",
   "execution_count": null,
   "id": "0ca88c7f-649e-4a2e-9193-e127ea8f1926",
   "metadata": {},
   "outputs": [],
   "source": [
    "app_df[categorical_columns[1]].value_counts()"
   ]
  },
  {
   "cell_type": "code",
   "execution_count": null,
   "id": "8529a802-6c73-4b12-9eb4-54d824c467c8",
   "metadata": {},
   "outputs": [],
   "source": [
    "app_df[categorical_columns[2]].value_counts()"
   ]
  },
  {
   "cell_type": "code",
   "execution_count": null,
   "id": "7f7fe1d3-c369-47eb-9890-d5e908e80dbc",
   "metadata": {},
   "outputs": [],
   "source": [
    "app_df[categorical_columns[3]].value_counts()"
   ]
  },
  {
   "cell_type": "code",
   "execution_count": null,
   "id": "691ce7b9-5eb1-4492-b051-1a01932023c0",
   "metadata": {},
   "outputs": [],
   "source": [
    "app_df[categorical_columns[4]].value_counts()"
   ]
  },
  {
   "cell_type": "code",
   "execution_count": null,
   "id": "d2374714-2161-4c7d-9dee-f880d494033a",
   "metadata": {},
   "outputs": [],
   "source": [
    "app_df[categorical_columns[5]].value_counts()"
   ]
  },
  {
   "cell_type": "markdown",
   "id": "8ec85a06-f58c-4beb-9c31-b60f30bdbe55",
   "metadata": {},
   "source": [
    "#### Cleaning NAME_INCOME_TYPE Column"
   ]
  },
  {
   "cell_type": "code",
   "execution_count": null,
   "id": "669cbdf4-8a27-49e5-abb7-c1246d48d89a",
   "metadata": {},
   "outputs": [],
   "source": [
    "app_df['NAME_INCOME_TYPE'] = app_df['NAME_INCOME_TYPE'].replace({\n",
    "    'Unemployed': 'Other',\n",
    "    'Student': 'Other',\n",
    "    'Maternity leave': 'Other'})"
   ]
  },
  {
   "cell_type": "code",
   "execution_count": null,
   "id": "f21eabde-7833-48b9-98c7-975795cf1717",
   "metadata": {},
   "outputs": [],
   "source": [
    "app_df[categorical_columns[5]].value_counts()"
   ]
  },
  {
   "cell_type": "markdown",
   "id": "e63bcc8b-8724-475a-b69c-4d70904beb54",
   "metadata": {},
   "source": [
    "#### NAME_EDUCATION_TYPE Column standardizing"
   ]
  },
  {
   "cell_type": "code",
   "execution_count": null,
   "id": "3f06d25d-f05b-43c5-bf91-2351a326505c",
   "metadata": {},
   "outputs": [],
   "source": [
    "app_df[categorical_columns[6]].value_counts()"
   ]
  },
  {
   "cell_type": "code",
   "execution_count": null,
   "id": "eb1c929a-bb92-4c25-9b6c-82b1c22e134e",
   "metadata": {},
   "outputs": [],
   "source": [
    "app_df['NAME_EDUCATION_TYPE'] = app_df['NAME_EDUCATION_TYPE'].replace({\n",
    "    'Incomplete higher': 'Other',\n",
    "    'Lower secondary': 'Other',\n",
    "    'Academic degree': 'Other',\n",
    "    'Secondary / secondary special': 'Secondary education'})"
   ]
  },
  {
   "cell_type": "code",
   "execution_count": null,
   "id": "94e239bb-efe8-4ad2-8d2e-baa69962692d",
   "metadata": {},
   "outputs": [],
   "source": [
    "app_df[categorical_columns[6]].value_counts()"
   ]
  },
  {
   "cell_type": "markdown",
   "id": "0053624d-782b-4400-9f3e-38254d8be5c5",
   "metadata": {},
   "source": [
    "#### NAME_FAMILY_STATUS Column Cleaning"
   ]
  },
  {
   "cell_type": "code",
   "execution_count": null,
   "id": "ba5db0b2-aca2-412b-a0f1-3329b74c4863",
   "metadata": {},
   "outputs": [],
   "source": [
    "app_df[categorical_columns[7]].value_counts()"
   ]
  },
  {
   "cell_type": "code",
   "execution_count": null,
   "id": "88eb20f4-7e37-438b-9fdb-3ce4e48eef2f",
   "metadata": {},
   "outputs": [],
   "source": [
    "app_df = app_df[app_df['NAME_FAMILY_STATUS'] != 'Unknown']"
   ]
  },
  {
   "cell_type": "code",
   "execution_count": null,
   "id": "dfa3315e-29d6-452e-b8c7-774bc37f7b62",
   "metadata": {},
   "outputs": [],
   "source": []
  },
  {
   "cell_type": "markdown",
   "id": "1c41b424-4d41-46a1-924d-105a59475c45",
   "metadata": {},
   "source": [
    "#### NAME_HOUSING_TYPE Columns Cleaning"
   ]
  },
  {
   "cell_type": "code",
   "execution_count": null,
   "id": "dc2380b1-a39e-483a-b6c9-60db4308f297",
   "metadata": {},
   "outputs": [],
   "source": [
    "app_df[categorical_columns[8]].value_counts()"
   ]
  },
  {
   "cell_type": "code",
   "execution_count": null,
   "id": "6b549210-61b8-4150-a2ca-6979f56cce47",
   "metadata": {},
   "outputs": [],
   "source": [
    "app_df['NAME_HOUSING_TYPE'] = app_df['NAME_HOUSING_TYPE'].replace({\n",
    "    'Office apartment': 'Other',\n",
    "    'Co-op apartment': 'Other'\n",
    "})"
   ]
  },
  {
   "cell_type": "code",
   "execution_count": null,
   "id": "4cfc46d5-9f77-4f94-bd91-273454a48e3d",
   "metadata": {},
   "outputs": [],
   "source": [
    "app_df[categorical_columns[8]].value_counts()"
   ]
  },
  {
   "cell_type": "code",
   "execution_count": null,
   "id": "ab769492-f436-4b7b-96c5-11631c3c580c",
   "metadata": {},
   "outputs": [],
   "source": [
    "app_df[categorical_columns[9]].value_counts()"
   ]
  },
  {
   "cell_type": "code",
   "execution_count": null,
   "id": "002327e7-6dda-49a3-ac62-32ec2f7acb55",
   "metadata": {},
   "outputs": [],
   "source": [
    "app_df[categorical_columns[10]].value_counts()"
   ]
  },
  {
   "cell_type": "markdown",
   "id": "58cff7be-dd01-4269-9d22-5111aea9d26b",
   "metadata": {},
   "source": [
    "#### Cleaning ORGANIZATION_TYPE Column"
   ]
  },
  {
   "cell_type": "code",
   "execution_count": null,
   "id": "65991232-4b3b-4089-b1de-4192906b6798",
   "metadata": {},
   "outputs": [],
   "source": [
    "app_df[categorical_columns[11]].value_counts()"
   ]
  },
  {
   "cell_type": "code",
   "execution_count": null,
   "id": "6f793451-31e1-49d3-8494-eca107b4a38d",
   "metadata": {},
   "outputs": [],
   "source": [
    "def categorize_org(input):\n",
    "    if input in ['Business Entity Type 1', 'Business Entity Type 2', 'Business Entity Type 3']:\n",
    "        return 'Business Entity'\n",
    "    elif input in ['Industry: type 1', 'Industry: type 2', 'Industry: type 3', 'Industry: type 4', 'Industry: type 5', 'Industry: type 6', 'Industry: type 7', 'Industry: type 8', 'Industry: type 9', 'Industry: type 10', 'Industry: type 11', 'Industry: type 12', 'Industry: type 13']:\n",
    "        return 'Industry'\n",
    "    elif input in ['Transport: type 1', 'Transport: type 2', 'Transport: type 3', 'Transport: type 4']:\n",
    "        return 'Transport'\n",
    "    elif input in ['Trade: type 1', 'Trade: type 2', 'Trade: type 3', 'Trade: type 4', 'Trade: type 5', 'Trade: type 6', 'Trade: type 7']:\n",
    "        return 'Trade'\n",
    "    else:\n",
    "        return input"
   ]
  },
  {
   "cell_type": "code",
   "execution_count": null,
   "id": "56a097c8-2872-452b-b0c3-6e964d5f85ed",
   "metadata": {},
   "outputs": [],
   "source": [
    "app_df['ORGANIZATION_TYPE'] = app_df['ORGANIZATION_TYPE'].apply(categorize_org)\n"
   ]
  },
  {
   "cell_type": "code",
   "execution_count": null,
   "id": "46f7ea62-09ec-43b6-a1dd-658baafbfe0d",
   "metadata": {},
   "outputs": [],
   "source": [
    "app_df[categorical_columns[11]].value_counts()"
   ]
  },
  {
   "cell_type": "code",
   "execution_count": null,
   "id": "4d8bd159-feb9-4d16-b80c-27bd8a5c09a6",
   "metadata": {},
   "outputs": [],
   "source": [
    "app_df[categorical_columns[12]].value_counts()"
   ]
  },
  {
   "cell_type": "code",
   "execution_count": null,
   "id": "18a62655-3d90-4191-aaae-a74597cd318e",
   "metadata": {},
   "outputs": [],
   "source": [
    "#### Dropping some unwanted Columns before analysis step."
   ]
  },
  {
   "cell_type": "code",
   "execution_count": null,
   "id": "31f33911-e9c6-4687-b05b-f1c4c40e8e1b",
   "metadata": {},
   "outputs": [],
   "source": [
    "app_df = app_df.drop(columns=['FLAG_DOCUMENT_2', 'FLAG_DOCUMENT_3',\n",
    "       'FLAG_DOCUMENT_4', 'FLAG_DOCUMENT_5', 'FLAG_DOCUMENT_6',\n",
    "       'FLAG_DOCUMENT_7', 'FLAG_DOCUMENT_8', 'FLAG_DOCUMENT_9',\n",
    "       'FLAG_DOCUMENT_10', 'FLAG_DOCUMENT_11', 'FLAG_DOCUMENT_12',\n",
    "       'FLAG_DOCUMENT_13', 'FLAG_DOCUMENT_14', 'FLAG_DOCUMENT_15',\n",
    "       'FLAG_DOCUMENT_16', 'FLAG_DOCUMENT_17', 'FLAG_DOCUMENT_18',\n",
    "       'FLAG_DOCUMENT_19', 'FLAG_DOCUMENT_20', 'FLAG_DOCUMENT_21'])"
   ]
  },
  {
   "cell_type": "markdown",
   "id": "47348b6e-3889-4859-a202-82f891c49641",
   "metadata": {},
   "source": [
    "# DATA ANALYSIS"
   ]
  },
  {
   "cell_type": "markdown",
   "id": "ecf3ee73-084e-407a-aa3b-d168803badb1",
   "metadata": {},
   "source": [
    "`Data imbalance check on column TARGET`"
   ]
  },
  {
   "cell_type": "code",
   "execution_count": null,
   "id": "f826233d-c41b-41d1-bbb9-206e9de7a8aa",
   "metadata": {},
   "outputs": [],
   "source": [
    "app_df['TARGET'].value_counts().values"
   ]
  },
  {
   "cell_type": "code",
   "execution_count": null,
   "id": "07fe52fb-0383-482e-aa8c-05c602280333",
   "metadata": {},
   "outputs": [],
   "source": [
    "Data_Imbalance = np.round(app_df['TARGET'].value_counts().values[0] /app_df['TARGET'].value_counts().values[1],2)\n",
    "print(Data_Imbalance)"
   ]
  },
  {
   "cell_type": "code",
   "execution_count": null,
   "id": "07603d78-8558-420c-9c7e-442736a35b30",
   "metadata": {},
   "outputs": [],
   "source": [
    "target_counts = app_df['TARGET'].value_counts()\n",
    "labels = target_counts.index\n",
    "sizes = target_counts.values\n",
    "explode = [0, 0.1]\n",
    "plt.figure(figsize=(10, 6))\n",
    "plt.pie(sizes, labels=labels, explode=explode, autopct='%.0f%%', startangle=90, colors=['#ff9999','#66b3ff','#99ff99','#ffcc99'])\n",
    "plt.title('Distribution of TARGET')\n",
    "plt.axis('equal')\n",
    "plt.show()"
   ]
  },
  {
   "cell_type": "markdown",
   "id": "10666955-f828-4286-9209-1a77261563c2",
   "metadata": {},
   "source": [
    "### This Imbalance states 3 things:\n",
    "- Due to the significantly higher number of non-defaulter records compared to defaulters, there is a risk that insights derived from this dataset may be biased towards non-defaulters. This imbalance might cause to overlook critical patterns and characteristics unique to defaulters.\n",
    "- If this dataset represents the entire bank's customer base, it indicates a strong prevalence of non-defaulters over defaulters. This insight suggests that the majority of the bank's customers are managing their repayments effectively. This also implies that our current methods and processes may be effective for the majority of our clients.\n",
    "- The data reveals that, on average, 1 out of every 12 customers is a defaulter, translating to a defaulter rate of approximately 8.33%. This ratio is crucial for understanding the bank's risk exposure and can inform strategies for risk management and customer support."
   ]
  },
  {
   "cell_type": "markdown",
   "id": "2c1aad89-146b-4b7e-96ff-7eabdaa03e3b",
   "metadata": {},
   "source": [
    " "
   ]
  },
  {
   "cell_type": "code",
   "execution_count": null,
   "id": "d5e4e7c7-8da3-4c55-ab6c-77e24ba5df47",
   "metadata": {},
   "outputs": [],
   "source": [
    "sns.set(style='whitegrid')"
   ]
  },
  {
   "cell_type": "code",
   "execution_count": null,
   "id": "43cc8187-7491-4d0b-a421-e7f1ce88fcea",
   "metadata": {},
   "outputs": [],
   "source": [
    "numerical_columns = [\n",
    "    'AMT_INCOME_TOTAL', 'AMT_CREDIT', 'AMT_ANNUITY', 'AMT_GOODS_PRICE',\n",
    "    'REGION_POPULATION_RELATIVE', 'DAYS_BIRTH', 'DAYS_EMPLOYED',\n",
    "    'DAYS_REGISTRATION', 'DAYS_ID_PUBLISH', 'EXT_SOURCE_2', 'EXT_SOURCE_3',\n",
    "    'OBS_30_CNT_SOCIAL_CIRCLE', 'DEF_30_CNT_SOCIAL_CIRCLE', 'OBS_60_CNT_SOCIAL_CIRCLE',\n",
    "    'DEF_60_CNT_SOCIAL_CIRCLE', 'DAYS_LAST_PHONE_CHANGE', 'AMT_REQ_CREDIT_BUREAU_HOUR',\n",
    "    'AMT_REQ_CREDIT_BUREAU_DAY', 'AMT_REQ_CREDIT_BUREAU_WEEK',\n",
    "    'AMT_REQ_CREDIT_BUREAU_MON', 'AMT_REQ_CREDIT_BUREAU_QRT',\n",
    "    'AMT_REQ_CREDIT_BUREAU_YEAR', 'Total_Req_Credit_Enq_Year'\n",
    "]"
   ]
  },
  {
   "cell_type": "code",
   "execution_count": null,
   "id": "345d89cb-120b-49ab-b1af-ad6396daba07",
   "metadata": {},
   "outputs": [],
   "source": [
    "categorical_columns = [\n",
    "    'NAME_CONTRACT_TYPE', 'CODE_GENDER', 'FLAG_OWN_CAR', 'FLAG_OWN_REALTY',\n",
    "    'NAME_TYPE_SUITE', 'NAME_INCOME_TYPE', 'NAME_EDUCATION_TYPE',\n",
    "    'NAME_FAMILY_STATUS', 'NAME_HOUSING_TYPE', 'OCCUPATION_TYPE',\n",
    "    'ORGANIZATION_TYPE', 'ACCOMPANIED_STATUS', 'Income_Category',\n",
    "    'Credit_Category', 'Annuity_Category', 'Goods_Price_Category',\n",
    "    'Age_Category', 'Employment_Category', 'Registration_Category',\n",
    "    'ID_Publish_Category'\n",
    "]"
   ]
  },
  {
   "cell_type": "markdown",
   "id": "69dc8fbe-0a5c-4982-b625-25bc3620f7a1",
   "metadata": {},
   "source": [
    "# Univariate Analysis on Numerical Columns"
   ]
  },
  {
   "cell_type": "code",
   "execution_count": null,
   "id": "ec56c260-3010-4905-8569-a36e22e3da9c",
   "metadata": {},
   "outputs": [],
   "source": [
    "for col in numerical_columns:\n",
    "    # Distribution plot\n",
    "    plt.figure(figsize=(12, 6))\n",
    "    sns.histplot(app_df[col], kde=True, bins=30)\n",
    "    plt.title(f'Distribution of {col}')\n",
    "    plt.xlabel(col)\n",
    "    plt.ylabel('Frequency')\n",
    "    plt.grid(True)\n",
    "    plt.show()"
   ]
  },
  {
   "cell_type": "markdown",
   "id": "6dbcc296-7cb6-4a54-8214-2dea76efa4a4",
   "metadata": {},
   "source": [
    "# Univariate Analysis on Categorical Columns"
   ]
  },
  {
   "cell_type": "code",
   "execution_count": null,
   "id": "e2703b6c-cbd6-40b2-a1ae-044f78a14b12",
   "metadata": {},
   "outputs": [],
   "source": [
    "for col in categorical_columns:\n",
    "    # Frequency distribution plot\n",
    "    plt.figure(figsize=(12, 6))\n",
    "    sns.countplot(data=app_df, x=col, order=app_df[col].value_counts().index)\n",
    "    plt.title(f'Distribution of {col}')\n",
    "    plt.xlabel(col)\n",
    "    plt.ylabel('Count')\n",
    "    plt.grid(True)\n",
    "    plt.xticks(rotation=45,ha='right')\n",
    "    plt.show()"
   ]
  },
  {
   "cell_type": "code",
   "execution_count": null,
   "id": "db03828a-f9d2-4b99-953d-5f0191c5b241",
   "metadata": {},
   "outputs": [],
   "source": []
  },
  {
   "cell_type": "markdown",
   "id": "405a27f1-f110-4f24-9d1f-6fbabb8bb880",
   "metadata": {},
   "source": [
    "# Bivariate Analysis on Numerical Columns"
   ]
  },
  {
   "cell_type": "markdown",
   "id": "13ffa910-902e-49e4-a736-dc6487326752",
   "metadata": {},
   "source": [
    "- 0.6 to 1: Strong positive correlation.\n",
    "- 0.3 to 0.6: Moderate positive correlation.\n",
    "- 0 to 0.3:  Weak positive correlation.\n",
    "- 0 to -0.3: Weak negative correlation.\n",
    "- -0.3 to -0.6: Weak negative correlation.\n",
    "- -0.6 to -1: Moderate to strong negative correlation."
   ]
  },
  {
   "cell_type": "code",
   "execution_count": null,
   "id": "5ebf4489-f629-4d28-b53f-32caecdd0ac3",
   "metadata": {},
   "outputs": [],
   "source": [
    "numerical_columns = [\n",
    "    'AMT_INCOME_TOTAL', 'AMT_CREDIT', 'AMT_ANNUITY', 'AMT_GOODS_PRICE','DAYS_BIRTH', 'DAYS_EMPLOYED',\n",
    "    'DAYS_REGISTRATION', 'DAYS_ID_PUBLISH','Total_Req_Credit_Enq_Year'\n",
    "]\n",
    "# removed few unwanted columns before bivariate analysis"
   ]
  },
  {
   "cell_type": "code",
   "execution_count": null,
   "id": "b12e6e01-18eb-417a-acd1-4d9e710defa3",
   "metadata": {},
   "outputs": [],
   "source": [
    "palette = sns.color_palette(\"rocket\")\n",
    "\n",
    "# Numerical vs Numerical without Target\n",
    "for i in range(len(numerical_columns)):\n",
    "    for j in range(i+1, len(numerical_columns)):\n",
    "        col1 = numerical_columns[i]\n",
    "        col2 = numerical_columns[j]\n",
    "        \n",
    "        plt.figure(figsize=(10, 6))\n",
    "        sns.scatterplot(data=app_df, x=col1, y=col2, color=palette[0])\n",
    "        plt.title(f'Scatter Plot of {col1} vs {col2}', fontsize=15)\n",
    "        plt.xlabel(col1, fontsize=12)\n",
    "        plt.ylabel(col2, fontsize=12)\n",
    "        plt.show()\n",
    "        \n",
    "        plt.figure(figsize=(10, 6))\n",
    "        sns.heatmap(app_df[[col1, col2]].corr(), annot=True, cmap=\"rocket\", fmt=\".2f\", linewidths=0.5)\n",
    "        plt.title(f'Correlation Heatmap between {col1} and {col2}', fontsize=15)\n",
    "        plt.show()"
   ]
  },
  {
   "cell_type": "code",
   "execution_count": null,
   "id": "cafd61b2-c4fe-4f4a-b1b4-34889d9ddb90",
   "metadata": {},
   "outputs": [],
   "source": [
    "numerical_columns = [\n",
    "    'AMT_INCOME_TOTAL', 'AMT_CREDIT', 'AMT_ANNUITY', 'AMT_GOODS_PRICE','DAYS_BIRTH', 'DAYS_EMPLOYED',\n",
    "    'DAYS_REGISTRATION', 'DAYS_ID_PUBLISH','Total_Req_Credit_Enq_Year'\n",
    "]"
   ]
  },
  {
   "cell_type": "code",
   "execution_count": null,
   "id": "0ed3bcf1-93a7-4693-87f3-f21277e9ae81",
   "metadata": {},
   "outputs": [],
   "source": [
    "correlation_data = {'Column': [], 'Correlation with TARGET': []}\n",
    "for col in numerical_columns:\n",
    "    correlation = app_df[[col, 'TARGET']].corr().iloc[0, 1]\n",
    "    correlation_data['Column'].append(col)\n",
    "    correlation_data['Correlation with TARGET'].append(correlation)\n",
    "correlation_data"
   ]
  },
  {
   "cell_type": "markdown",
   "id": "4fb5c5c0-c416-4ee0-9fd2-ddf87b6638fc",
   "metadata": {},
   "source": [
    "# Bivariate Analysis On Numerical Columns with Target"
   ]
  },
  {
   "cell_type": "code",
   "execution_count": null,
   "id": "b8577aaf-25bd-4db3-8720-0d170f396ae3",
   "metadata": {},
   "outputs": [],
   "source": [
    "\n",
    "correlation_data = {'Column': [], 'Correlation with TARGET': []}\n",
    "for col in numerical_columns:\n",
    "    correlation = app_df[[col, 'TARGET']].corr().iloc[0, 1]\n",
    "    correlation_data['Column'].append(col)\n",
    "    correlation_data['Correlation with TARGET'].append(correlation)\n",
    "    \n",
    "correlation_df = pd.DataFrame(correlation_data).set_index('Column')\n",
    "\n",
    "plt.figure(figsize=(10, 6))\n",
    "sns.heatmap(correlation_df, annot=True, cmap='coolwarm', center=0, vmin=-1, vmax=1, linewidths=0.5)\n",
    "plt.title('Correlation of Numerical Columns with TARGET', fontsize=15)\n",
    "plt.show()"
   ]
  },
  {
   "cell_type": "code",
   "execution_count": null,
   "id": "1fb379db-0ce1-4800-8579-5d773dc32d82",
   "metadata": {},
   "outputs": [],
   "source": [
    "categorical_columns = [\n",
    "    'NAME_CONTRACT_TYPE', 'CODE_GENDER', 'FLAG_OWN_CAR', 'FLAG_OWN_REALTY',\n",
    "    'NAME_TYPE_SUITE', 'NAME_INCOME_TYPE', 'NAME_EDUCATION_TYPE',\n",
    "    'NAME_FAMILY_STATUS', 'NAME_HOUSING_TYPE', 'OCCUPATION_TYPE',\n",
    "    'ORGANIZATION_TYPE', 'ACCOMPANIED_STATUS', 'Income_Category',\n",
    "    'Credit_Category', 'Annuity_Category', 'Goods_Price_Category',\n",
    "    'Age_Category', 'Employment_Category', 'Registration_Category',\n",
    "    'ID_Publish_Category'\n",
    "]"
   ]
  },
  {
   "cell_type": "markdown",
   "id": "1e7c847f-5c16-4a9d-af2b-aa1525b419ac",
   "metadata": {},
   "source": [
    "# Bivariate Analysis on Categorical Columns"
   ]
  },
  {
   "cell_type": "code",
   "execution_count": null,
   "id": "5d07b0b2-b3ac-4977-b3ea-2c5ff66f081a",
   "metadata": {},
   "outputs": [],
   "source": [
    "for i in range(len(categorical_columns)):\n",
    "    for j in range(i + 1, len(categorical_columns)):\n",
    "        col1 = categorical_columns[i]\n",
    "        col2 = categorical_columns[j]\n",
    "        \n",
    "        plt.figure(figsize=(10, 6))\n",
    "        cross_tab = pd.crosstab(app_df[col1], app_df[col2])\n",
    "        sns.heatmap(cross_tab, annot=True, cmap='rocket', fmt='d', linewidths=0.5)\n",
    "        plt.title(f'Heatmap of Cross-Tabulation between {col1} and {col2}', fontsize=15)\n",
    "        plt.xlabel(col2, fontsize=12)\n",
    "        plt.ylabel(col1, fontsize=12)\n",
    "        plt.show()\n"
   ]
  },
  {
   "cell_type": "markdown",
   "id": "9859fba7-dbe2-41ad-9e4d-ac384dd4e828",
   "metadata": {},
   "source": [
    "# Bivariate Analysis on Categorical Columns with Target"
   ]
  },
  {
   "cell_type": "code",
   "execution_count": null,
   "id": "2b310b36-92ec-449a-90d7-6e594a698042",
   "metadata": {},
   "outputs": [],
   "source": [
    "palette = {0: 'lightgreen', 1: 'red'}\n",
    "for col in categorical_columns:\n",
    "    plt.figure(figsize=(12, 6))\n",
    "    sns.countplot(data=app_df, x=col, hue='TARGET', palette=palette)\n",
    "    plt.title(f'Count Plot of {col} vs TARGET', fontsize=15)\n",
    "    plt.xlabel(col, fontsize=12)\n",
    "    plt.ylabel('Count', fontsize=12)\n",
    "    plt.legend(title='TARGET', title_fontsize='13', fontsize='11')\n",
    "    \n",
    "    plt.xticks(rotation=45,ha='right')\n",
    "    plt.tight_layout()\n",
    "    plt.show()"
   ]
  },
  {
   "cell_type": "code",
   "execution_count": null,
   "id": "c49b6b29-1cd7-4086-82e5-29ba3e397c18",
   "metadata": {},
   "outputs": [],
   "source": []
  },
  {
   "cell_type": "markdown",
   "id": "59776955-b0da-494d-a5bf-b70c5e92e72b",
   "metadata": {},
   "source": [
    "# DATA CLEANING ON PREVIOUS_APPLICATION DATASET"
   ]
  },
  {
   "cell_type": "code",
   "execution_count": null,
   "id": "d48c6460-e390-4f64-8d26-14f46553b054",
   "metadata": {},
   "outputs": [],
   "source": [
    "prev_appdf = pd.read_csv('previous_application.csv')"
   ]
  },
  {
   "cell_type": "code",
   "execution_count": null,
   "id": "d980bde0-ffe9-493a-882c-d9f2d1e600d2",
   "metadata": {},
   "outputs": [],
   "source": [
    "prev_appdf.head()"
   ]
  },
  {
   "cell_type": "code",
   "execution_count": null,
   "id": "f970d8c6-e587-4625-94a6-c5663eadfbb0",
   "metadata": {
    "scrolled": true
   },
   "outputs": [],
   "source": [
    "prev_appdf.shape"
   ]
  },
  {
   "cell_type": "code",
   "execution_count": null,
   "id": "c78fc943-4449-4281-b9cf-ece9833229a2",
   "metadata": {},
   "outputs": [],
   "source": [
    "nullspercentage = checknull(prev_appdf)\n",
    "highnulls = nullspercentage[nullspercentage > 40].index\n",
    "highnulls.shape"
   ]
  },
  {
   "cell_type": "code",
   "execution_count": null,
   "id": "7714c4d9-542e-48bd-a8f4-57c356ba5667",
   "metadata": {},
   "outputs": [],
   "source": [
    "prev_appdf.dtypes"
   ]
  },
  {
   "cell_type": "code",
   "execution_count": null,
   "id": "a24b8200-9db9-4983-a355-52dc548c6591",
   "metadata": {},
   "outputs": [],
   "source": [
    "prev_appdf.drop(columns=highnulls,axis=1,inplace=True)"
   ]
  },
  {
   "cell_type": "code",
   "execution_count": null,
   "id": "74e1ee6f-24e5-4c6e-9cc5-982d713486d7",
   "metadata": {},
   "outputs": [],
   "source": [
    "fillmedian(prev_appdf,['CNT_PAYMENT','AMT_GOODS_PRICE','AMT_ANNUITY','CNT_PAYMENT'])"
   ]
  },
  {
   "cell_type": "code",
   "execution_count": null,
   "id": "d805926a-6eb1-404b-ab2d-0e8bd6642ff5",
   "metadata": {},
   "outputs": [],
   "source": [
    "prev_appdf.PRODUCT_COMBINATION.value_counts()"
   ]
  },
  {
   "cell_type": "code",
   "execution_count": null,
   "id": "bcf636e7-12df-4a6d-a0a8-c0600abeffb6",
   "metadata": {},
   "outputs": [],
   "source": [
    "prev_appdf['PRODUCT_COMBINATION'].fillna('Unknown', inplace=True)"
   ]
  },
  {
   "cell_type": "code",
   "execution_count": null,
   "id": "335ebdf4-de95-47ed-928b-340b2e7e3e9b",
   "metadata": {},
   "outputs": [],
   "source": [
    "prev_appdf['PRODUCT_COMBINATION'] = prev_appdf['PRODUCT_COMBINATION'].str.strip().str.lower().head()"
   ]
  },
  {
   "cell_type": "code",
   "execution_count": null,
   "id": "b6ce521b-5b29-492a-b208-b0d75aa76987",
   "metadata": {},
   "outputs": [],
   "source": [
    "prev_appdf.columns"
   ]
  },
  {
   "cell_type": "code",
   "execution_count": null,
   "id": "79162dbd-3298-447e-bf8f-624511800523",
   "metadata": {},
   "outputs": [],
   "source": [
    "num_cols =  ['AMT_ANNUITY',\"AMT_APPLICATION\",\"AMT_CREDIT\",\"AMT_GOODS_PRICE\",\"DAYS_DECISION\"]"
   ]
  },
  {
   "cell_type": "code",
   "execution_count": null,
   "id": "3c93c80b-6593-4664-ae1b-837c6dc062c0",
   "metadata": {},
   "outputs": [],
   "source": [
    "prev_appdf[num_cols].head()"
   ]
  },
  {
   "cell_type": "code",
   "execution_count": null,
   "id": "880eca96-fe46-4028-a7bb-20bb1ade73b0",
   "metadata": {},
   "outputs": [],
   "source": [
    "cat_cols = [\n",
    "    'NAME_CONTRACT_TYPE',\n",
    "    'NAME_CASH_LOAN_PURPOSE',\n",
    "    'NAME_CONTRACT_STATUS',\n",
    "    'NAME_PAYMENT_TYPE',\n",
    "    'CODE_REJECT_REASON',\n",
    "    'NAME_CLIENT_TYPE',\n",
    "    'NAME_GOODS_CATEGORY',\n",
    "    'CHANNEL_TYPE',\n",
    "    'NAME_SELLER_INDUSTRY',\n",
    "    'PRODUCT_COMBINATION'\n",
    "]"
   ]
  },
  {
   "cell_type": "code",
   "execution_count": null,
   "id": "d657f998-f10c-43ee-87c9-8adc5f0373ef",
   "metadata": {},
   "outputs": [],
   "source": [
    "prev_appdf[cat_cols].head()"
   ]
  },
  {
   "cell_type": "markdown",
   "id": "cf0e1fea-2394-42b4-858a-d8d97f9d71ea",
   "metadata": {},
   "source": [
    "#### Univariate Analysis on Numerical Columns"
   ]
  },
  {
   "cell_type": "code",
   "execution_count": null,
   "id": "574a13c6-fdee-4d57-b4c3-8befbaffbd9f",
   "metadata": {},
   "outputs": [],
   "source": [
    "for col in num_cols:\n",
    "    plt.figure(figsize=(10, 6))\n",
    "    sns.histplot(prev_appdf[col], kde=True, color='skyblue')\n",
    "    plt.title(f'Histogram of {col}')\n",
    "    plt.xlabel(col)\n",
    "    plt.ylabel('Frequency')\n",
    "    plt.show()"
   ]
  },
  {
   "cell_type": "markdown",
   "id": "e22f7917-44af-4190-bd5e-410ebcc386a6",
   "metadata": {},
   "source": [
    "#### BIVARIATE ANALYSIS on Numerical Columns"
   ]
  },
  {
   "cell_type": "code",
   "execution_count": null,
   "id": "4dc39dd3-e502-42db-97f7-dcfe3cd2aa0b",
   "metadata": {},
   "outputs": [],
   "source": [
    "sns.pairplot(prev_appdf[num_cols])\n",
    "plt.suptitle('Pairplot of Numerical Variables', y=1.02)\n",
    "plt.show()"
   ]
  },
  {
   "cell_type": "markdown",
   "id": "bff29ee5-3022-4e44-b919-f8b2b702f71d",
   "metadata": {},
   "source": [
    "#### Univariate Analysis on Categorical columns"
   ]
  },
  {
   "cell_type": "code",
   "execution_count": null,
   "id": "a8ce16e1-e25f-4c53-988c-087f30fb0cf6",
   "metadata": {},
   "outputs": [],
   "source": [
    "for col in cat_cols:\n",
    "    plt.figure(figsize=(12, 6))\n",
    "    sns.countplot(data=prev_appdf, x=col, palette='rocket')\n",
    "    plt.title(f'Count of Each Category in {col}')\n",
    "    plt.xticks(rotation=45,ha='right')\n",
    "    plt.show()"
   ]
  },
  {
   "cell_type": "markdown",
   "id": "e0a66b38-5657-4e39-b4f9-13165190769b",
   "metadata": {},
   "source": [
    "#### Bivariate Analysis on Categorical Columns"
   ]
  },
  {
   "cell_type": "code",
   "execution_count": null,
   "id": "da50bf1f-d883-4005-b4b1-21f4a845c5d0",
   "metadata": {
    "scrolled": true
   },
   "outputs": [],
   "source": [
    "for i in range(len(cat_cols)):\n",
    "    for j in range(i + 1, len(cat_cols)):\n",
    "        cat_col1 = cat_cols[i]\n",
    "        cat_col2 = cat_cols[j]\n",
    "        \n",
    "        # Create a pivot table to aggregate counts\n",
    "        pivot_table = pd.crosstab(prev_appdf[cat_col1], prev_appdf[cat_col2])\n",
    "        \n",
    "        # Plot heatmap\n",
    "        plt.figure(figsize=(12, 8))\n",
    "        sns.heatmap(pivot_table, cmap='rocket', annot=True, fmt='d', linewidths=0.5)\n",
    "        plt.title(f'Heatmap of {cat_col1} vs. {cat_col2}')\n",
    "        plt.xlabel(cat_col2)\n",
    "        plt.ylabel(cat_col1)\n",
    "        plt.show()"
   ]
  },
  {
   "cell_type": "code",
   "execution_count": null,
   "id": "5bd065d2-1c82-45f3-a974-169b5dc752df",
   "metadata": {
    "scrolled": true
   },
   "outputs": [],
   "source": [
    "for cat_col in cat_cols:\n",
    "    for num_col in num_cols:\n",
    "        pivot_table = prev_appdf.pivot_table(index=cat_col, values=num_col, aggfunc='mean')\n",
    "        \n",
    "        \n",
    "        plt.figure(figsize=(12, 6))\n",
    "        sns.heatmap(pivot_table, cmap='rocket', annot=True, fmt='.2f', linewidths=0.5)\n",
    "        plt.title(f'Heatmap of Mean {num_col} by {cat_col}')\n",
    "        plt.xlabel(cat_col)\n",
    "        plt.ylabel('Mean Value')\n",
    "        plt.show()"
   ]
  },
  {
   "cell_type": "code",
   "execution_count": null,
   "id": "bf522476-40d8-455b-89ec-d3bfdfb28601",
   "metadata": {},
   "outputs": [],
   "source": []
  },
  {
   "cell_type": "code",
   "execution_count": null,
   "id": "e9c9482e-6f70-408f-945b-46489c40a52d",
   "metadata": {},
   "outputs": [],
   "source": [
    "app_df.columns"
   ]
  },
  {
   "cell_type": "code",
   "execution_count": null,
   "id": "993ad9f6-e5d3-414d-ab4b-ab365e907e55",
   "metadata": {},
   "outputs": [],
   "source": [
    "prev_appdf.columns"
   ]
  },
  {
   "cell_type": "code",
   "execution_count": null,
   "id": "afac7ca2-d534-4bda-9cb4-9f3b3bb5bf63",
   "metadata": {},
   "outputs": [],
   "source": [
    "merged_df = pd.merge(app_df, prev_appdf, on='SK_ID_CURR', how='inner', suffixes=('_curr', '_prev'))"
   ]
  },
  {
   "cell_type": "code",
   "execution_count": null,
   "id": "bfc3e2cf-4cd7-4823-826f-0c1e50de06bf",
   "metadata": {},
   "outputs": [],
   "source": [
    "merged_df = merged_df.drop(columns=['PRODUCT_COMBINATION','Employment_Category'])"
   ]
  },
  {
   "cell_type": "code",
   "execution_count": null,
   "id": "a2e8f90a-7521-4689-81e9-11e4b1d46aca",
   "metadata": {},
   "outputs": [],
   "source": [
    "merged_df = merged_df[~merged_df.AMT_CREDIT_prev.isnull()]"
   ]
  },
  {
   "cell_type": "code",
   "execution_count": null,
   "id": "9e3342cf-1d41-42fe-bb66-4a0ee055200b",
   "metadata": {},
   "outputs": [],
   "source": [
    "merged_df.columns"
   ]
  },
  {
   "cell_type": "code",
   "execution_count": null,
   "id": "5233fb07-95fe-4a87-8847-8a05b3ccaa8b",
   "metadata": {},
   "outputs": [],
   "source": [
    "keep_columns = [\n",
    "    'SK_ID_CURR', 'TARGET', 'SK_ID_PREV',\n",
    "    'NAME_CONTRACT_TYPE_curr', 'AMT_CREDIT_curr', 'AMT_ANNUITY_curr', 'AMT_GOODS_PRICE_curr',\n",
    "    'WEEKDAY_APPR_PROCESS_START_curr', 'HOUR_APPR_PROCESS_START_curr',\n",
    "    'NAME_CONTRACT_TYPE_prev', 'AMT_ANNUITY_prev', 'AMT_CREDIT_prev', 'AMT_GOODS_PRICE_prev',\n",
    "    'WEEKDAY_APPR_PROCESS_START_prev', 'HOUR_APPR_PROCESS_START_prev', 'AMT_APPLICATION',\n",
    "    'CODE_GENDER', 'FLAG_OWN_CAR', 'FLAG_OWN_REALTY', 'CNT_CHILDREN', 'AMT_INCOME_TOTAL',\n",
    "    'NAME_TYPE_SUITE', 'NAME_INCOME_TYPE', 'NAME_EDUCATION_TYPE', 'NAME_FAMILY_STATUS', 'NAME_HOUSING_TYPE',\n",
    "    'REGION_POPULATION_RELATIVE', 'DAYS_BIRTH', 'DAYS_EMPLOYED', 'DAYS_REGISTRATION', 'DAYS_ID_PUBLISH',\n",
    "    'FLAG_MOBIL', 'FLAG_EMP_PHONE', 'FLAG_WORK_PHONE', 'FLAG_CONT_MOBILE', 'FLAG_PHONE', 'FLAG_EMAIL',\n",
    "    'OCCUPATION_TYPE', 'CNT_FAM_MEMBERS', 'REGION_RATING_CLIENT', 'REGION_RATING_CLIENT_W_CITY',\n",
    "    'ACCOMPANIED_STATUS', 'Income_Category', 'Credit_Category', 'Annuity_Category', 'Goods_Price_Category',\n",
    "    'AGE_YEARS', 'Age_Category', 'EMPLOYMENT_YEARS', 'REGISTRATION_YEARS', 'Registration_Category',\n",
    "    'ID_PUBLISH_YEARS', 'ID_Publish_Category',\n",
    "    'NAME_CASH_LOAN_PURPOSE', 'NAME_CONTRACT_STATUS', 'DAYS_DECISION', 'NAME_PAYMENT_TYPE',\n",
    "    'CODE_REJECT_REASON', 'NAME_CLIENT_TYPE', 'NAME_GOODS_CATEGORY', 'CHANNEL_TYPE',\n",
    "    'SELLERPLACE_AREA', 'NAME_SELLER_INDUSTRY', 'CNT_PAYMENT', 'NAME_YIELD_GROUP',\n",
    "    'EXT_SOURCE_2', 'EXT_SOURCE_3', 'OBS_30_CNT_SOCIAL_CIRCLE', 'DEF_30_CNT_SOCIAL_CIRCLE',\n",
    "    'OBS_60_CNT_SOCIAL_CIRCLE', 'DEF_60_CNT_SOCIAL_CIRCLE', 'DAYS_LAST_PHONE_CHANGE',\n",
    "    'AMT_REQ_CREDIT_BUREAU_HOUR', 'AMT_REQ_CREDIT_BUREAU_DAY', 'AMT_REQ_CREDIT_BUREAU_WEEK',\n",
    "    'AMT_REQ_CREDIT_BUREAU_MON', 'AMT_REQ_CREDIT_BUREAU_QRT', 'AMT_REQ_CREDIT_BUREAU_YEAR',\n",
    "    'Total_Req_Credit_Enq_Year'\n",
    "]\n"
   ]
  },
  {
   "cell_type": "code",
   "execution_count": null,
   "id": "906f4a24-6ef8-4af8-b122-04bbd23a5e76",
   "metadata": {},
   "outputs": [],
   "source": [
    "appdata = merged_df[keep_columns]"
   ]
  },
  {
   "cell_type": "code",
   "execution_count": null,
   "id": "f289e977-2a9c-4c60-96b4-c9d9ed27794e",
   "metadata": {},
   "outputs": [],
   "source": [
    "appdata.shape"
   ]
  },
  {
   "cell_type": "code",
   "execution_count": null,
   "id": "51e20233-ceb2-4aa9-9c5c-470177650b00",
   "metadata": {},
   "outputs": [],
   "source": [
    "plt.figure(figsize=(12, 6))\n",
    "sns.countplot(data=appdata, x='NAME_CONTRACT_TYPE_prev', hue='TARGET', palette='rocket')\n",
    "plt.title('Distribution of Contract Types by Default Status')\n",
    "plt.xlabel('Contract Type')\n",
    "plt.ylabel('Count')\n",
    "plt.legend(title='Default Status', labels=['Non-Defaulter (0)', 'Defaulter (1)'])\n",
    "plt.xticks(rotation=45)\n",
    "plt.show()"
   ]
  },
  {
   "cell_type": "code",
   "execution_count": null,
   "id": "51a104ca-93e0-4bc9-8efd-e8645fe46573",
   "metadata": {},
   "outputs": [],
   "source": [
    "numerical_columns_prev = [\n",
    "    'AMT_APPLICATION',\n",
    "    'AMT_CREDIT_prev',\n",
    "    'AMT_ANNUITY_prev',\n",
    "    'AMT_GOODS_PRICE_prev'\n",
    "]\n",
    "\n",
    "\n",
    "for col in numerical_columns_prev:\n",
    "    plt.figure(figsize=(10, 6))\n",
    "    sns.histplot(data=appdata, x=col, hue='TARGET', palette='rocket', bins=30, kde=True)\n",
    "    plt.title(f'Distribution of {col} by TARGET')\n",
    "    plt.xlabel(col)\n",
    "    plt.ylabel('Frequency')\n",
    "    plt.show()"
   ]
  },
  {
   "cell_type": "code",
   "execution_count": null,
   "id": "a767d38b-564f-4e7a-a243-e38db517738f",
   "metadata": {},
   "outputs": [],
   "source": [
    "for col in numerical_columns_prev:\n",
    "    plt.figure(figsize=(10, 6))\n",
    "    sns.boxplot(x='TARGET', y=col, data=appdata, palette='rocket')\n",
    "    plt.title(f'{col} by Default Status')\n",
    "    plt.xlabel('TARGET')\n",
    "    plt.ylabel(col)\n",
    "    plt.show()"
   ]
  },
  {
   "cell_type": "code",
   "execution_count": null,
   "id": "6ac64487-b8d5-40fa-ba08-749b65216865",
   "metadata": {},
   "outputs": [],
   "source": [
    "appdata['AMT_DIFF_prev'] = appdata['AMT_APPLICATION'] - appdata['AMT_CREDIT_prev']\n",
    "appdata['AMT_CREDIT_TO_INCOME_prev'] = appdata['AMT_CREDIT_prev'] / appdata['AMT_INCOME_TOTAL']\n",
    "appdata['ANNUITY_TO_CREDIT_prev'] = appdata['AMT_ANNUITY_prev'] / appdata['AMT_CREDIT_prev']"
   ]
  },
  {
   "cell_type": "code",
   "execution_count": null,
   "id": "5abf49e4-9f06-40d4-8f1c-37f37985cf14",
   "metadata": {},
   "outputs": [],
   "source": [
    "derived_features = ['AMT_DIFF_prev', 'AMT_CREDIT_TO_INCOME_prev', 'ANNUITY_TO_CREDIT_prev']\n",
    "\n",
    "for col in derived_features:\n",
    "    plt.figure(figsize=(10, 6))\n",
    "    sns.histplot(data=appdata, x=col, hue='TARGET', palette='rocket', bins=30, kde=True)\n",
    "    plt.title(f'Distribution of {col} by TARGET')\n",
    "    plt.xlabel(col)\n",
    "    plt.ylabel('Frequency')\n",
    "    plt.show()"
   ]
  },
  {
   "cell_type": "code",
   "execution_count": null,
   "id": "1e790edc-7a55-4702-bd0d-0c1467955518",
   "metadata": {},
   "outputs": [],
   "source": [
    "for col in derived_features:\n",
    "    plt.figure(figsize=(10, 6))\n",
    "    sns.boxplot(x='TARGET', y=col, data=appdata, palette='rocket')\n",
    "    plt.title(f'{col} by Default Status')\n",
    "    plt.xlabel('TARGET')\n",
    "    plt.ylabel(col)\n",
    "    plt.show()"
   ]
  },
  {
   "cell_type": "code",
   "execution_count": null,
   "id": "dbd713b4-692c-4cce-a4ed-428cd2b6f346",
   "metadata": {},
   "outputs": [],
   "source": []
  },
  {
   "cell_type": "code",
   "execution_count": null,
   "id": "3d1fa8ff-cd49-41b5-8c6a-f169c9d66c8c",
   "metadata": {},
   "outputs": [],
   "source": [
    "crosstab = pd.crosstab(appdata['NAME_CASH_LOAN_PURPOSE'], appdata['Income_Category'])\n",
    "print(crosstab)"
   ]
  },
  {
   "cell_type": "code",
   "execution_count": null,
   "id": "9e77d210-ef1e-414d-918e-00745b41665f",
   "metadata": {},
   "outputs": [],
   "source": [
    "plt.figure(figsize=(14, 8))\n",
    "sns.countplot(data=appdata, x='NAME_CASH_LOAN_PURPOSE', hue='TARGET', palette='rocket')\n",
    "plt.title('NAME_CASH_LOAN_PURPOSE vs TARGET')\n",
    "plt.xticks(rotation=45, ha='right')\n",
    "plt.xlabel('NAME_CASH_LOAN_PURPOSE')\n",
    "plt.ylabel('Count')\n",
    "plt.legend(title='TARGET')\n",
    "plt.show()"
   ]
  },
  {
   "cell_type": "code",
   "execution_count": null,
   "id": "b1b1f36f-8711-4dcd-bca7-1c6d15dce144",
   "metadata": {},
   "outputs": [],
   "source": [
    "plt.figure(figsize=(14, 8))\n",
    "sns.countplot(data=appdata, x='NAME_INCOME_TYPE', hue='TARGET', palette='rocket')\n",
    "plt.title('NAME_INCOME_TYPE vs TARGET')\n",
    "plt.xticks(rotation=45, ha='right')\n",
    "plt.xlabel('NAME_INCOME_TYPE')\n",
    "plt.ylabel('Count')\n",
    "plt.legend(title='TARGET')\n",
    "plt.show()"
   ]
  },
  {
   "cell_type": "code",
   "execution_count": null,
   "id": "b824d938-928d-4d1b-86c6-e280d5b9738d",
   "metadata": {},
   "outputs": [],
   "source": [
    "appdata.columns"
   ]
  },
  {
   "cell_type": "code",
   "execution_count": null,
   "id": "4b80d5b7-eded-4de5-83ba-e05436a61b1f",
   "metadata": {},
   "outputs": [],
   "source": [
    "plt.figure(figsize=(14, 8))\n",
    "sns.countplot(data=appdata, x='NAME_CLIENT_TYPE', hue='TARGET', palette='rocket')\n",
    "plt.title('NAME_CLIENT_TYPE vs TARGET')\n",
    "plt.xticks(rotation=45, ha='right')\n",
    "plt.xlabel('NAME_CLIENT_TYPE')\n",
    "plt.ylabel('Count')\n",
    "plt.legend(title='TARGET')\n",
    "plt.show()"
   ]
  },
  {
   "cell_type": "code",
   "execution_count": null,
   "id": "6deb5115-3754-425c-82c3-7e35b7561776",
   "metadata": {},
   "outputs": [],
   "source": []
  },
  {
   "cell_type": "code",
   "execution_count": null,
   "id": "f6edbe08-dc18-4bec-aabb-524cd68e5b2e",
   "metadata": {},
   "outputs": [],
   "source": [
    "plt.figure(figsize=(14, 8))\n",
    "sns.countplot(data=appdata, x='NAME_FAMILY_STATUS', hue='TARGET', palette='rocket')\n",
    "plt.title('NAME_FAMILY_STATUS vs TARGET')\n",
    "plt.xticks(rotation=45, ha='right')\n",
    "plt.xlabel('NAME_FAMILY_STATUS')\n",
    "plt.ylabel('Count')\n",
    "plt.legend(title='TARGET')\n",
    "plt.show()"
   ]
  },
  {
   "cell_type": "code",
   "execution_count": null,
   "id": "b6c2a09e-d4c1-4c73-9bd0-ab9094b27a3f",
   "metadata": {},
   "outputs": [],
   "source": [
    "plt.figure(figsize=(14, 8))\n",
    "sns.countplot(data=appdata, x='CNT_CHILDREN', hue='TARGET', palette='rocket')\n",
    "plt.title('CNT_CHILDREN vs TARGET')\n",
    "plt.xticks(rotation=45, ha='right')\n",
    "plt.xlabel('CNT_CHILDREN')\n",
    "plt.ylabel('Count')\n",
    "plt.legend(title='TARGET')\n",
    "plt.show()"
   ]
  },
  {
   "cell_type": "code",
   "execution_count": null,
   "id": "d97837e5-9a3c-4713-b54c-4ffb6b392002",
   "metadata": {},
   "outputs": [],
   "source": [
    "plt.figure(figsize=(14, 8))\n",
    "sns.countplot(data=appdata, x='NAME_CONTRACT_STATUS', hue='TARGET', palette='rocket')\n",
    "plt.title('NAME_CONTRACT_STATUS vs TARGET')\n",
    "plt.xticks(rotation=45, ha='right')\n",
    "plt.xlabel('NAME_CONTRACT_STATUS')\n",
    "plt.ylabel('Count')\n",
    "plt.legend(title='TARGET')\n",
    "plt.show()"
   ]
  },
  {
   "cell_type": "code",
   "execution_count": null,
   "id": "74f42d65-bfb3-4344-b2ea-4f83c4f2f338",
   "metadata": {},
   "outputs": [],
   "source": [
    "numerical_cols = ['TARGET', 'AMT_ANNUITY_curr', 'AMT_APPLICATION', 'AMT_CREDIT_curr',\n",
    "    'AMT_GOODS_PRICE_curr', 'AMT_ANNUITY_prev', 'AMT_CREDIT_prev',\n",
    "    'AMT_GOODS_PRICE_prev', 'AMT_DIFF_prev', 'AMT_CREDIT_TO_INCOME_prev',\n",
    "    'ANNUITY_TO_CREDIT_prev', 'DAYS_BIRTH', 'DAYS_EMPLOYED',\n",
    "    'DAYS_REGISTRATION', 'DAYS_ID_PUBLISH', 'DAYS_DECISION',\n",
    "    'DAYS_LAST_PHONE_CHANGE', 'AMT_REQ_CREDIT_BUREAU_HOUR',\n",
    "    'AMT_REQ_CREDIT_BUREAU_DAY', 'AMT_REQ_CREDIT_BUREAU_WEEK',\n",
    "    'AMT_REQ_CREDIT_BUREAU_MON', 'AMT_REQ_CREDIT_BUREAU_QRT',\n",
    "    'AMT_REQ_CREDIT_BUREAU_YEAR', 'Total_Req_Credit_Enq_Year', 'EXT_SOURCE_2',\n",
    "    'EXT_SOURCE_3', 'OBS_30_CNT_SOCIAL_CIRCLE', 'DEF_30_CNT_SOCIAL_CIRCLE',\n",
    "    'OBS_60_CNT_SOCIAL_CIRCLE', 'DEF_60_CNT_SOCIAL_CIRCLE']\n",
    "\n",
    "numerical_data = appdata[numerical_cols]\n",
    "\n",
    "correlation_matrix = numerical_data.corr()\n",
    "\n",
    "pivot_corr_matrix = correlation_matrix[['TARGET']]\n",
    "\n",
    "plt.figure(figsize=(10, 8))\n",
    "sns.heatmap(pivot_corr_matrix, annot=True, cmap='rocket', center=0, fmt=\".2f\")\n",
    "plt.title('Correlation of Numerical Columns with TARGET')\n",
    "plt.show()"
   ]
  },
  {
   "cell_type": "code",
   "execution_count": null,
   "id": "6cdaddd9-3b73-42a5-af30-34c8c36677c4",
   "metadata": {},
   "outputs": [],
   "source": [
    "res=pd.pivot_table(data=appdata, index=\"NAME_CONTRACT_STATUS\",columns='NAME_CLIENT_TYPE',values='TARGET')\n",
    "plt.figure(figsize=(15,8))\n",
    "sns.heatmap(res, annot=True,cmap='rocket', fmt=\"g\")\n",
    "plt.show()"
   ]
  },
  {
   "cell_type": "markdown",
   "id": "cb06256f-23bf-45de-950b-08e3e4507177",
   "metadata": {},
   "source": [
    "### Insights are Presented In PPT"
   ]
  },
  {
   "cell_type": "markdown",
   "id": "cc0f9fa1-a5d5-49b2-9e22-4bc44a5611a5",
   "metadata": {},
   "source": [
    "--- END ---"
   ]
  }
 ],
 "metadata": {
  "kernelspec": {
   "display_name": "Python 3 (ipykernel)",
   "language": "python",
   "name": "python3"
  },
  "language_info": {
   "codemirror_mode": {
    "name": "ipython",
    "version": 3
   },
   "file_extension": ".py",
   "mimetype": "text/x-python",
   "name": "python",
   "nbconvert_exporter": "python",
   "pygments_lexer": "ipython3",
   "version": "3.11.7"
  }
 },
 "nbformat": 4,
 "nbformat_minor": 5
}
